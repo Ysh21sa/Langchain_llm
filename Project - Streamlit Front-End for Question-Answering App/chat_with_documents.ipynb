{
  "nbformat": 4,
  "nbformat_minor": 0,
  "metadata": {
    "colab": {
      "provenance": []
    },
    "kernelspec": {
      "name": "python3",
      "display_name": "Python 3"
    },
    "language_info": {
      "name": "python"
    }
  },
  "cells": [
    {
      "cell_type": "code",
      "source": [
        "!pip install -q -r ./requirements.txt"
      ],
      "metadata": {
        "colab": {
          "base_uri": "https://localhost:8080/"
        },
        "id": "gIeY3__3ZpDq",
        "outputId": "b7794be0-4558-4475-db21-bc00df38cff1"
      },
      "execution_count": 5,
      "outputs": [
        {
          "output_type": "stream",
          "name": "stdout",
          "text": [
            "\u001b[2K     \u001b[90m━━━━━━━━━━━━━━━━━━━━━━━━━━━━━━━━━━━━━━━━\u001b[0m \u001b[32m193.4/193.4 kB\u001b[0m \u001b[31m5.7 MB/s\u001b[0m eta \u001b[36m0:00:00\u001b[0m\n",
            "\u001b[2K     \u001b[90m━━━━━━━━━━━━━━━━━━━━━━━━━━━━━━━━━━━━━━━━\u001b[0m \u001b[32m214.5/214.5 kB\u001b[0m \u001b[31m8.6 MB/s\u001b[0m eta \u001b[36m0:00:00\u001b[0m\n",
            "\u001b[?25h  Preparing metadata (setup.py) ... \u001b[?25l\u001b[?25hdone\n",
            "\u001b[2K     \u001b[90m━━━━━━━━━━━━━━━━━━━━━━━━━━━━━━━━━━━━━━━━\u001b[0m \u001b[32m290.4/290.4 kB\u001b[0m \u001b[31m7.8 MB/s\u001b[0m eta \u001b[36m0:00:00\u001b[0m\n",
            "\u001b[?25h  Building wheel for docx2txt (setup.py) ... \u001b[?25l\u001b[?25hdone\n"
          ]
        }
      ]
    },
    {
      "cell_type": "code",
      "source": [
        "# Install all libraries by running in the terminal: pip install -q -r ./requirements.txt\n",
        "import streamlit as st\n",
        "from langchain_openai import OpenAIEmbeddings\n",
        "from langchain_community.vectorstores import Chroma\n",
        "\n",
        "\n",
        "# loading PDF, DOCX and TXT files as LangChain Documents\n",
        "def load_document(file):\n",
        "    import os\n",
        "    name, extension = os.path.splitext(file)\n",
        "\n",
        "    if extension == '.pdf':\n",
        "        from langchain_community.document_loaders import PyPDFLoader\n",
        "        print(f'Loading {file}')\n",
        "        loader = PyPDFLoader(file)\n",
        "    elif extension == '.docx':\n",
        "        from langchain_community.document_loaders import Docx2txtLoader\n",
        "        print(f'Loading {file}')\n",
        "        loader = Docx2txtLoader(file)\n",
        "    elif extension == '.txt':\n",
        "        from langchain_community.document_loaders import TextLoader\n",
        "        loader = TextLoader(file)\n",
        "    else:\n",
        "        print('Document format is not supported!')\n",
        "        return None\n",
        "\n",
        "    data = loader.load()\n",
        "    return data\n",
        "\n",
        "\n",
        "# splitting data in chunks\n",
        "def chunk_data(data, chunk_size=256, chunk_overlap=20):\n",
        "    from langchain.text_splitter import RecursiveCharacterTextSplitter\n",
        "    text_splitter = RecursiveCharacterTextSplitter(chunk_size=chunk_size, chunk_overlap=chunk_overlap)\n",
        "    chunks = text_splitter.split_documents(data)\n",
        "    return chunks\n",
        "\n",
        "\n",
        "# create embeddings using OpenAIEmbeddings() and save them in a Chroma vector store\n",
        "def create_embeddings(chunks):\n",
        "    embeddings = OpenAIEmbeddings(model='text-embedding-3-small', dimensions=1536)  # 512 works as well\n",
        "    vector_store = Chroma.from_documents(chunks, embeddings)\n",
        "\n",
        "    # if you want to use a specific directory for chromadb\n",
        "    # vector_store = Chroma.from_documents(chunks, embeddings, persist_directory='./mychroma_db')\n",
        "    return vector_store\n",
        "\n",
        "\n",
        "def ask_and_get_answer(vector_store, q, k=3):\n",
        "    from langchain.chains import RetrievalQA\n",
        "    from langchain_openai import ChatOpenAI\n",
        "\n",
        "    llm = ChatOpenAI(model='gpt-3.5-turbo', temperature=1)\n",
        "    retriever = vector_store.as_retriever(search_type='similarity', search_kwargs={'k': k})\n",
        "    chain = RetrievalQA.from_chain_type(llm=llm, chain_type=\"stuff\", retriever=retriever)\n",
        "\n",
        "    answer = chain.invoke(q)\n",
        "    return answer['result']\n",
        "\n",
        "\n",
        "# calculate embedding cost using tiktoken\n",
        "def calculate_embedding_cost(texts):\n",
        "    import tiktoken\n",
        "    enc = tiktoken.encoding_for_model('text-embedding-3-small')\n",
        "    total_tokens = sum([len(enc.encode(page.page_content)) for page in texts])\n",
        "    # check prices here: https://openai.com/pricing\n",
        "    # print(f'Total Tokens: {total_tokens}')\n",
        "    # print(f'Embedding Cost in USD: {total_tokens / 1000 * 0.00002:.6f}')\n",
        "    return total_tokens, total_tokens / 1000 * 0.00002\n",
        "\n",
        "\n",
        "# clear the chat history from streamlit session state\n",
        "def clear_history():\n",
        "    if 'history' in st.session_state:\n",
        "        del st.session_state['history']\n",
        "\n",
        "\n",
        "if __name__ == \"__main__\":\n",
        "    import os\n",
        "\n",
        "    # loading the OpenAI api key from .env\n",
        "    from dotenv import load_dotenv, find_dotenv\n",
        "    load_dotenv(find_dotenv(), override=True)\n",
        "\n",
        "    #st.image('img.png')\n",
        "    st.subheader('LLM Question-Answering Application 🤖')\n",
        "    with st.sidebar:\n",
        "        # text_input for the OpenAI API key (alternative to python-dotenv and .env)\n",
        "        api_key = st.text_input('OpenAI API Key:', type='password')\n",
        "        if api_key:\n",
        "            os.environ['OPENAI_API_KEY'] = api_key\n",
        "\n",
        "        # file uploader widget\n",
        "        uploaded_file = st.file_uploader('Upload a file:', type=['pdf', 'docx', 'txt'])\n",
        "\n",
        "        # chunk size number widget\n",
        "        chunk_size = st.number_input('Chunk size:', min_value=100, max_value=2048, value=512, on_change=clear_history)\n",
        "\n",
        "        # k number input widget\n",
        "        k = st.number_input('k', min_value=1, max_value=20, value=3, on_change=clear_history)\n",
        "\n",
        "        # add data button widget\n",
        "        add_data = st.button('Add Data', on_click=clear_history)\n",
        "\n",
        "        if uploaded_file and add_data: # if the user browsed a file\n",
        "            with st.spinner('Reading, chunking and embedding file ...'):\n",
        "\n",
        "                # writing the file from RAM to the current directory on disk\n",
        "                bytes_data = uploaded_file.read()\n",
        "                file_name = os.path.join('./', uploaded_file.name)\n",
        "                with open(file_name, 'wb') as f:\n",
        "                    f.write(bytes_data)\n",
        "\n",
        "                data = load_document(file_name)\n",
        "                chunks = chunk_data(data, chunk_size=chunk_size)\n",
        "                st.write(f'Chunk size: {chunk_size}, Chunks: {len(chunks)}')\n",
        "\n",
        "                tokens, embedding_cost = calculate_embedding_cost(chunks)\n",
        "                st.write(f'Embedding cost: ${embedding_cost:.4f}')\n",
        "\n",
        "                # creating the embeddings and returning the Chroma vector store\n",
        "                vector_store = create_embeddings(chunks)\n",
        "\n",
        "                # saving the vector store in the streamlit session state (to be persistent between reruns)\n",
        "                st.session_state.vs = vector_store\n",
        "                st.success('File uploaded, chunked and embedded successfully.')\n",
        "\n",
        "    # user's question text input widget\n",
        "    q = st.text_input('Ask a question about the content of your file:')\n",
        "    if q: # if the user entered a question and hit enter\n",
        "        if 'vs' in st.session_state: # if there's the vector store (user uploaded, split and embedded a file)\n",
        "            vector_store = st.session_state.vs\n",
        "            st.write(f'k: {k}')\n",
        "            answer = ask_and_get_answer(vector_store, q, k)\n",
        "\n",
        "            # text area widget for the LLM answer\n",
        "            st.text_area('LLM Answer: ', value=answer)\n",
        "\n",
        "            st.divider()\n",
        "\n",
        "            # if there's no chat history in the session state, create it\n",
        "            if 'history' not in st.session_state:\n",
        "                st.session_state.history = ''\n",
        "\n",
        "            # the current question and answer\n",
        "            # the current question and answer\n",
        "            value = f'Q: {q} \\nA: {answer}'\n",
        "\n",
        "            st.session_state.history = f'{value} \\n {\"-\" * 100} \\n {st.session_state.history}'\n",
        "            h = st.session_state.history\n",
        "\n",
        "            # text area widget for the chat history\n",
        "            st.text_area(label='Chat History', value=h, key='history', height=400)\n",
        "\n",
        "# run the app:\n",
        "\n"
      ],
      "metadata": {
        "id": "mxFOiLmHaX8N"
      },
      "execution_count": null,
      "outputs": []
    },
    {
      "cell_type": "code",
      "source": [
        "!pip install chromadb"
      ],
      "metadata": {
        "id": "IaaNUwjPcsig"
      },
      "execution_count": null,
      "outputs": []
    },
    {
      "cell_type": "code",
      "source": [
        "!npm install localtunnel"
      ],
      "metadata": {
        "id": "IsmqwQH2buFq"
      },
      "execution_count": null,
      "outputs": []
    },
    {
      "cell_type": "code",
      "source": [
        "!streamlit run ./chat_with_documents.py"
      ],
      "metadata": {
        "colab": {
          "base_uri": "https://localhost:8080/"
        },
        "id": "WOZOXXOJc8uX",
        "outputId": "bf52d609-f058-48bb-b77c-f085558e87ba"
      },
      "execution_count": 15,
      "outputs": [
        {
          "output_type": "stream",
          "name": "stdout",
          "text": [
            "\n",
            "Collecting usage statistics. To deactivate, set browser.gatherUsageStats to false.\n",
            "\u001b[0m\n",
            "\u001b[0m\n",
            "\u001b[34m\u001b[1m  You can now view your Streamlit app in your browser.\u001b[0m\n",
            "\u001b[0m\n",
            "\u001b[34m  Network URL: \u001b[0m\u001b[1mhttp://172.28.0.12:8501\u001b[0m\n",
            "\u001b[34m  External URL: \u001b[0m\u001b[1mhttp://34.75.203.229:8501\u001b[0m\n",
            "\u001b[0m\n",
            "\u001b[34m  Stopping...\u001b[0m\n",
            "^C\n"
          ]
        }
      ]
    },
    {
      "cell_type": "code",
      "source": [
        "!streamlit run ./chat_with_documents.py &>/content/logs.txt & npx localtunnel --port 8501"
      ],
      "metadata": {
        "id": "BQFfTG5mb7kU"
      },
      "execution_count": null,
      "outputs": []
    }
  ]
}