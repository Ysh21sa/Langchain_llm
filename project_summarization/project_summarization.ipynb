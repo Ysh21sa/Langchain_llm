{
  "cells": [
    {
      "cell_type": "markdown",
      "id": "3ed6115d",
      "metadata": {
        "id": "3ed6115d"
      },
      "source": [
        "# Project: Summarization App Using LangChain and OpenAI\n",
        "\n",
        "This notebook uses **the latest versions** of the OpenAI and LangChain libraries."
      ]
    },
    {
      "cell_type": "code",
      "execution_count": null,
      "id": "ee0a9d65",
      "metadata": {
        "id": "ee0a9d65",
        "colab": {
          "base_uri": "https://localhost:8080/"
        },
        "outputId": "d49b9e8b-47ef-4046-f725-c4215ca8f52d"
      },
      "outputs": [
        {
          "output_type": "stream",
          "name": "stdout",
          "text": [
            "\u001b[2K     \u001b[90m━━━━━━━━━━━━━━━━━━━━━━━━━━━━━━━━━━━━━━━━\u001b[0m \u001b[32m312.9/312.9 kB\u001b[0m \u001b[31m5.3 MB/s\u001b[0m eta \u001b[36m0:00:00\u001b[0m\n",
            "\u001b[2K     \u001b[90m━━━━━━━━━━━━━━━━━━━━━━━━━━━━━━━━━━━━━━━━\u001b[0m \u001b[32m867.6/867.6 kB\u001b[0m \u001b[31m17.5 MB/s\u001b[0m eta \u001b[36m0:00:00\u001b[0m\n",
            "\u001b[2K     \u001b[90m━━━━━━━━━━━━━━━━━━━━━━━━━━━━━━━━━━━━━━━━\u001b[0m \u001b[32m193.4/193.4 kB\u001b[0m \u001b[31m18.5 MB/s\u001b[0m eta \u001b[36m0:00:00\u001b[0m\n",
            "\u001b[2K     \u001b[90m━━━━━━━━━━━━━━━━━━━━━━━━━━━━━━━━━━━━━━━━\u001b[0m \u001b[32m214.5/214.5 kB\u001b[0m \u001b[31m11.6 MB/s\u001b[0m eta \u001b[36m0:00:00\u001b[0m\n",
            "\u001b[2K     \u001b[90m━━━━━━━━━━━━━━━━━━━━━━━━━━━━━━━━━━━━━━━━\u001b[0m \u001b[32m1.8/1.8 MB\u001b[0m \u001b[31m25.1 MB/s\u001b[0m eta \u001b[36m0:00:00\u001b[0m\n",
            "\u001b[?25h  Preparing metadata (setup.py) ... \u001b[?25l\u001b[?25hdone\n",
            "\u001b[2K     \u001b[90m━━━━━━━━━━━━━━━━━━━━━━━━━━━━━━━━━━━━━━━━\u001b[0m \u001b[32m290.4/290.4 kB\u001b[0m \u001b[31m22.8 MB/s\u001b[0m eta \u001b[36m0:00:00\u001b[0m\n",
            "\u001b[2K     \u001b[90m━━━━━━━━━━━━━━━━━━━━━━━━━━━━━━━━━━━━━━━━\u001b[0m \u001b[32m75.6/75.6 kB\u001b[0m \u001b[31m6.6 MB/s\u001b[0m eta \u001b[36m0:00:00\u001b[0m\n",
            "\u001b[2K     \u001b[90m━━━━━━━━━━━━━━━━━━━━━━━━━━━━━━━━━━━━━━━━\u001b[0m \u001b[32m2.0/2.0 MB\u001b[0m \u001b[31m33.5 MB/s\u001b[0m eta \u001b[36m0:00:00\u001b[0m\n",
            "\u001b[2K     \u001b[90m━━━━━━━━━━━━━━━━━━━━━━━━━━━━━━━━━━━━━━━━\u001b[0m \u001b[32m302.8/302.8 kB\u001b[0m \u001b[31m21.4 MB/s\u001b[0m eta \u001b[36m0:00:00\u001b[0m\n",
            "\u001b[2K     \u001b[90m━━━━━━━━━━━━━━━━━━━━━━━━━━━━━━━━━━━━━━━━\u001b[0m \u001b[32m116.7/116.7 kB\u001b[0m \u001b[31m11.6 MB/s\u001b[0m eta \u001b[36m0:00:00\u001b[0m\n",
            "\u001b[2K     \u001b[90m━━━━━━━━━━━━━━━━━━━━━━━━━━━━━━━━━━━━━━━━\u001b[0m \u001b[32m49.3/49.3 kB\u001b[0m \u001b[31m5.2 MB/s\u001b[0m eta \u001b[36m0:00:00\u001b[0m\n",
            "\u001b[2K     \u001b[90m━━━━━━━━━━━━━━━━━━━━━━━━━━━━━━━━━━━━━━━━\u001b[0m \u001b[32m77.9/77.9 kB\u001b[0m \u001b[31m8.1 MB/s\u001b[0m eta \u001b[36m0:00:00\u001b[0m\n",
            "\u001b[2K     \u001b[90m━━━━━━━━━━━━━━━━━━━━━━━━━━━━━━━━━━━━━━━━\u001b[0m \u001b[32m58.3/58.3 kB\u001b[0m \u001b[31m5.7 MB/s\u001b[0m eta \u001b[36m0:00:00\u001b[0m\n",
            "\u001b[2K     \u001b[90m━━━━━━━━━━━━━━━━━━━━━━━━━━━━━━━━━━━━━━━━\u001b[0m \u001b[32m53.0/53.0 kB\u001b[0m \u001b[31m5.1 MB/s\u001b[0m eta \u001b[36m0:00:00\u001b[0m\n",
            "\u001b[2K     \u001b[90m━━━━━━━━━━━━━━━━━━━━━━━━━━━━━━━━━━━━━━━━\u001b[0m \u001b[32m142.5/142.5 kB\u001b[0m \u001b[31m14.7 MB/s\u001b[0m eta \u001b[36m0:00:00\u001b[0m\n",
            "\u001b[?25h  Building wheel for docx2txt (setup.py) ... \u001b[?25l\u001b[?25hdone\n"
          ]
        }
      ],
      "source": [
        "!pip install -q -r ./requirements.txt"
      ]
    },
    {
      "cell_type": "markdown",
      "id": "7660d56a-7ec2-4cc2-ab41-5cb06862fead",
      "metadata": {
        "id": "7660d56a-7ec2-4cc2-ab41-5cb06862fead"
      },
      "source": [
        "Download [requirements.txt](https://drive.google.com/file/d/1UpURYL9kqjXfe9J8o-_Dq5KJTbQpzMef/view?usp=sharing)"
      ]
    },
    {
      "cell_type": "code",
      "execution_count": null,
      "id": "b646daff",
      "metadata": {
        "id": "b646daff",
        "outputId": "7c5d1787-eaff-4657-e311-129eb908096d",
        "colab": {
          "base_uri": "https://localhost:8080/"
        }
      },
      "outputs": [
        {
          "output_type": "execute_result",
          "data": {
            "text/plain": [
              "True"
            ]
          },
          "metadata": {},
          "execution_count": 2
        }
      ],
      "source": [
        "import os\n",
        "from dotenv import load_dotenv, find_dotenv\n",
        "load_dotenv(find_dotenv(), override=True)"
      ]
    },
    {
      "cell_type": "markdown",
      "id": "8fab7d02",
      "metadata": {
        "id": "8fab7d02"
      },
      "source": [
        "### A) Basic Prompt"
      ]
    },
    {
      "cell_type": "code",
      "execution_count": null,
      "id": "0e3ff20f",
      "metadata": {
        "id": "0e3ff20f"
      },
      "outputs": [],
      "source": [
        "from langchain_openai import ChatOpenAI\n",
        "from langchain.schema import(\n",
        "    AIMessage,\n",
        "    HumanMessage,\n",
        "    SystemMessage\n",
        ")\n"
      ]
    },
    {
      "cell_type": "code",
      "execution_count": null,
      "id": "0c626f9f",
      "metadata": {
        "id": "0c626f9f"
      },
      "outputs": [],
      "source": [
        "text= r\"\"\"\n",
        "Mojo combines the usability of Python with the performance of C, unlocking unparalleled programmability \\\n",
        "of AI hardware and extensibility of AI models.\n",
        "Mojo is a new programming language that bridges the gap between research and production \\\n",
        "by combining the best of Python syntax with systems programming and metaprogramming.\n",
        "With Mojo, you can write portable code that’s faster than C and seamlessly inter-op with the Python ecosystem.\n",
        "When we started Modular, we had no intention of building a new programming language. \\\n",
        "But as we were building our platform with the intent to unify the world’s ML/AI infrastructure, \\\n",
        "we realized that programming across the entire stack was too complicated. Plus, we were writing a \\\n",
        "lot of MLIR by hand and not having a good time.\n",
        "And although accelerators are important, one of the most prevalent and sometimes overlooked \"accelerators\" \\\n",
        "is the host CPU. Nowadays, CPUs have lots of tensor-core-like accelerator blocks and other AI acceleration \\\n",
        "units, but they also serve as the “fallback” for operations that specialized accelerators don’t handle, \\\n",
        "such as data loading, pre- and post-processing, and integrations with foreign systems. \\\n",
        "\"\"\"\n",
        "\n",
        "messages = [\n",
        "    SystemMessage(content='You are an expert copywriter with expertize in summarizing documents'),\n",
        "    HumanMessage(content=f'Please provide a short and concise summary of the following text:\\n TEXT: {text}')\n",
        "]\n",
        "\n",
        "llm = ChatOpenAI(temperature=0, model_name='gpt-3.5-turbo')\n",
        "\n"
      ]
    },
    {
      "cell_type": "code",
      "execution_count": null,
      "id": "41500c5d",
      "metadata": {
        "id": "41500c5d",
        "outputId": "bf73b1b2-2046-4eac-c76f-b1616743c2e2",
        "colab": {
          "base_uri": "https://localhost:8080/"
        }
      },
      "outputs": [
        {
          "output_type": "execute_result",
          "data": {
            "text/plain": [
              "237"
            ]
          },
          "metadata": {},
          "execution_count": 5
        }
      ],
      "source": [
        "llm.get_num_tokens(text)"
      ]
    },
    {
      "cell_type": "code",
      "execution_count": null,
      "id": "8b11437d",
      "metadata": {
        "id": "8b11437d"
      },
      "outputs": [],
      "source": [
        "summary_output = llm.invoke(messages)"
      ]
    },
    {
      "cell_type": "code",
      "execution_count": null,
      "id": "80ec720f",
      "metadata": {
        "id": "80ec720f",
        "outputId": "14fd63ba-801a-4a12-c108-44b6b30b24a9",
        "colab": {
          "base_uri": "https://localhost:8080/"
        }
      },
      "outputs": [
        {
          "output_type": "stream",
          "name": "stdout",
          "text": [
            "Mojo is a new programming language that combines Python's usability with C's performance, enhancing AI hardware programmability and model extensibility. It aims to bridge the gap between research and production by offering faster, portable code that seamlessly integrates with the Python ecosystem. The language was developed by Modular to simplify programming across the ML/AI stack and optimize performance on host CPUs, which play a crucial role in AI operations.\n"
          ]
        }
      ],
      "source": [
        "print(summary_output.content)"
      ]
    },
    {
      "cell_type": "markdown",
      "id": "2e74f5f0",
      "metadata": {
        "id": "2e74f5f0"
      },
      "source": [
        "### Summarizing Using Prompt Templates"
      ]
    },
    {
      "cell_type": "code",
      "execution_count": null,
      "id": "b40afa96",
      "metadata": {
        "id": "b40afa96"
      },
      "outputs": [],
      "source": [
        "from langchain import PromptTemplate\n",
        "from langchain.chains import LLMChain"
      ]
    },
    {
      "cell_type": "code",
      "execution_count": null,
      "id": "b6047971",
      "metadata": {
        "id": "b6047971"
      },
      "outputs": [],
      "source": [
        "template = '''\n",
        "Write a concise and short summary of the following text:\n",
        "TEXT: `{text}`\n",
        "Translate the summary to {language}.\n",
        "'''\n",
        "prompt = PromptTemplate(\n",
        "    input_variables=['text', 'language'],\n",
        "    template=template\n",
        ")"
      ]
    },
    {
      "cell_type": "code",
      "execution_count": null,
      "id": "4564f1d5",
      "metadata": {
        "id": "4564f1d5",
        "outputId": "42d565a8-ff70-47da-96a1-cf255d39a6fe",
        "colab": {
          "base_uri": "https://localhost:8080/"
        }
      },
      "outputs": [
        {
          "output_type": "execute_result",
          "data": {
            "text/plain": [
              "258"
            ]
          },
          "metadata": {},
          "execution_count": 10
        }
      ],
      "source": [
        "llm.get_num_tokens(prompt.format(text=text, language='English'))"
      ]
    },
    {
      "cell_type": "code",
      "execution_count": null,
      "id": "9b0a1de8",
      "metadata": {
        "id": "9b0a1de8",
        "colab": {
          "base_uri": "https://localhost:8080/"
        },
        "outputId": "0cb5309c-9513-4d9d-bfc1-5f0c2649cab0"
      },
      "outputs": [
        {
          "metadata": {
            "tags": null
          },
          "name": "stderr",
          "output_type": "stream",
          "text": [
            "/usr/local/lib/python3.10/dist-packages/langchain_core/_api/deprecation.py:119: LangChainDeprecationWarning: The class `LLMChain` was deprecated in LangChain 0.1.17 and will be removed in 0.3.0. Use RunnableSequence, e.g., `prompt | llm` instead.\n",
            "  warn_deprecated(\n"
          ]
        }
      ],
      "source": [
        "chain = LLMChain(llm=llm, prompt=prompt)\n",
        "summary = chain.invoke({'text': text, 'language':'telugu'})"
      ]
    },
    {
      "cell_type": "code",
      "execution_count": null,
      "id": "f24b9e9f",
      "metadata": {
        "id": "f24b9e9f",
        "outputId": "cbbe809a-b4c0-4761-fa26-04042781677e",
        "colab": {
          "base_uri": "https://localhost:8080/"
        }
      },
      "outputs": [
        {
          "metadata": {
            "tags": null
          },
          "name": "stdout",
          "output_type": "stream",
          "text": [
            "{'text': 'మోజో ఒక కొత్త ప్రోగ్రామింగ్ భాష మరియు పైథాన్ యొక్క ఉపయోగకరమైనతను సి యొక్క ప్రదర్శనతో కలిసి, ఏఆయ్ హార్డ్వేర్ యొక్క ప్రోగ్రమ్మబిలిటీ మరియు ఏఆయ్ మోడల్లను అన్లాక్ చేస్తుంది. మోజో ప్రోగ్రామింగ్ భాష ఒక కొత్త భాష మరియు సిస్టమ్స్ ప్రోగ్రామింగ్ మరియు మెటాప్రోగ్రామింగ్ యొక్క మధ్య లో లేని దూరంను మూలకం ఉంచుకుంది. మోజోతో, మీరు సీ కంటే త్వరగా ఉండే పోర్టేబుల్ కోడ్ రాయవచ్చు మరియు పైథాన్ ఎకోసిస్టమ్తో స్వాయంగా ఇంటర్-ఆప్ చేయవచ్చు. మోడ్యులర్ తో మేము కొత్త ప్రోగ్రామింగ్ భాషను నిర్మించడానికి యొక్క యొక్క ఇచ్ఛ లేదు. కానీ, మేము ప్లాట్ఫారంను ఏఆయ్ ఇంఫ్రాస్ట్రక్చర్ను ఏకీకరించడానికి ఉద్దేశించుటకు మేము అన్ని స్టాక్ వరకు ప్రోగ్రామింగ్ చేయడం చాలా కఠినంగా ఉండింది. మరియు అక్కడ మేము అనేక MLIR హస్తంతా రాయడం మరియు ఒక మంచి సమయం లేకపోవడం కాకుండ. మరియు అక్కడ త్వరితంగా ఉండే \"ఎక్సెలరేటర్లు\" ముఖ్యమైనవి, కానీ, అతనికి అన్ని టెన్సర్-కోర్ లైక్ ఎక్సెలరేటర్ బ్లాక్లు మరియు ఇతర ఏఆయ్ ఎక్సెలరేషన్ యూనిట్లు ఉన్నాయి, కానీ, విదేశీ సిస్టమ్లతో ఇంటిగ్రేషన్లు, డేటా లోడింగ్, ప్రీ- మరియు పోస్ట్-ప్రాసెసింగ్, మరియు ఇతర విశేషిత ఎక్సెలరేటర్లు చేయకుండా ఉండడం వంటి కార్యకలాపాలకు హోస్ట్ సీపీయు అత్యంత ప్రముఖంగా మరియు కదలిక లేని అన్ని \"ఎక్సెలరేటర్లు\" ఉంటాయి. ఇప్పుడు, సీపీయులు డేటా లోడింగ్, ప్రీ- మరియు పోస్ట్-ప్రాసెసింగ్, మరియు విదేశీ సిస్టమ్లతో ఇంటిగ్రేషన్లతో పరస్పర చేయడానికి \"ఫాల్బ్యాక్\" అవసరమైన కార్యకలాపాలకు సేవ చేస్తాయి. అందువల్ల, మోజో ప్రోగ్రామింగ్ భాష ప్రస్తుతం మీరు చదవవచ్చు. మోజో ప్రోగ్రామింగ్ భాష ప్రస్తుతం మీరు చదవవచ్చు. మోజో ప్రోగ్రామింగ్ భాష ప్రస్తుతం మీరు చదవవచ్చు. మోజో ప్రోగ్రామింగ్ భాష ప్రస్తుతం మీరు చదవవచ్చు. మోజో ప్రోగ్రామింగ్ భాష ప్రస్తుతం మీరు చదవవచ్చు. మోజో ప్రోగ్రామింగ్ భాష ప్రస్తుతం మీరు చదవవచ్చు. మోజో ప్రోగ్రామింగ్ భాష ప్రస్తుతం మీరు చదవవచ్చు. మోజో ప్రోగ్రామింగ్ భాష ప్రస్తుతం మీరు చదవవచ్చు. మోజో ప్రోగ్రామింగ్ భాష ప్రస్తుతం మీరు చదవవచ్చు. మోజో ప్రోగ్రామింగ్ భాష ప్రస్తుతం మీరు చదవవచ్చు. మోజో ప్రోగ్రామింగ్ భాష ప్రస్తుతం మీరు చదవవచ్చు. మోజో ప్రోగ్రామింగ్ భాష ప్రస్తుతం మీరు చదవవచ్చు. మోజో ప్రోగ్రామింగ్ భాష ప్రస్తుతం మీరు చదవవచ్చు. మోజో ప్రోగ్రామింగ్ భాష ప్రస్తుతం మీరు చదవవచ్చు. మోజో ప్రోగ్రామింగ్ భాష ప్రస్తుతం మీరు చదవవచ్చు. మోజో ప్రోగ్రామింగ్ భాష ప్రస్తుతం మీరు చదవవచ్చు. మోజో ప్రోగ్రామింగ్ భాష ప్రస్తుతం మీరు చదవవచ్చు. మోజో ప్రోగ్రామింగ్ భాష ప్రస్తుతం మీరు చదవవచ్చు. మోజో ప్రోగ్రామింగ్ భాష ప్రస్తుతం మీరు చదవవచ్చు. మోజో ప్రోగ్రామింగ్ భాష ప్రస్తుతం మీరు చదవవచ్చు. మోజో ప్రోగ్రామింగ్ భాష ప్రస్తుతం మీరు చదవవచ్చు. మోజో ప్రోగ్రామింగ్ భాష ప్రస్తుతం మీరు చదవవచ్చు. మోజో ప్రోగ్రామింగ్ భాష ప్రస్తుతం మీర', 'language': 'telugu'}\n"
          ]
        }
      ],
      "source": [
        "print(summary)"
      ]
    },
    {
      "cell_type": "markdown",
      "id": "1d60b55e",
      "metadata": {
        "id": "1d60b55e"
      },
      "source": [
        "### Summarizing using SuffDocumentChain"
      ]
    },
    {
      "cell_type": "code",
      "execution_count": null,
      "id": "647968e5",
      "metadata": {
        "id": "647968e5"
      },
      "outputs": [],
      "source": [
        "from langchain import PromptTemplate\n",
        "from langchain_openai import ChatOpenAI\n",
        "from langchain.chains.summarize import load_summarize_chain\n",
        "from langchain.docstore.document import Document\n"
      ]
    },
    {
      "cell_type": "code",
      "execution_count": null,
      "id": "f18f8c5e",
      "metadata": {
        "id": "f18f8c5e"
      },
      "outputs": [],
      "source": [
        "with open('./sj.txt', encoding='utf-8') as f:\n",
        "    text = f.read()\n",
        "\n",
        "docs = [Document(page_content=text)]\n",
        "llm = ChatOpenAI(temperature=0, model_name='gpt-3.5-turbo')"
      ]
    },
    {
      "cell_type": "code",
      "execution_count": null,
      "id": "da9e82a3",
      "metadata": {
        "id": "da9e82a3",
        "outputId": "5295e5af-625b-47d9-d90a-edb7a775f5f3",
        "colab": {
          "base_uri": "https://localhost:8080/"
        }
      },
      "outputs": [
        {
          "output_type": "execute_result",
          "data": {
            "text/plain": [
              "PromptTemplate(input_variables=['text'], template='Write a concise and short summary of the following text.\\nTEXT: `{text}`\\n')"
            ]
          },
          "metadata": {},
          "execution_count": 15
        }
      ],
      "source": [
        "template = '''Write a concise and short summary of the following text.\n",
        "TEXT: `{text}`\n",
        "'''\n",
        "prompt = PromptTemplate(\n",
        "    input_variables=['text'],\n",
        "    template=template\n",
        ")\n",
        "prompt"
      ]
    },
    {
      "cell_type": "code",
      "execution_count": null,
      "id": "3f75df70",
      "metadata": {
        "id": "3f75df70"
      },
      "outputs": [],
      "source": [
        "chain = load_summarize_chain(\n",
        "    llm,\n",
        "    chain_type='stuff',\n",
        "    prompt=prompt,\n",
        "    verbose=False\n",
        ")\n",
        "output_summary = chain.invoke(docs)"
      ]
    },
    {
      "cell_type": "code",
      "execution_count": null,
      "id": "ea408f9d",
      "metadata": {
        "id": "ea408f9d",
        "outputId": "00491939-bb9a-4613-8f2f-d0b68fb1d61f",
        "colab": {
          "base_uri": "https://localhost:8080/"
        }
      },
      "outputs": [
        {
          "output_type": "stream",
          "name": "stdout",
          "text": [
            "The speaker shares three stories from his life during a commencement speech. The first story is about connecting the dots and dropping out of college, leading to unexpected opportunities. The second story is about love and loss, including being fired from the company he co-founded. The third story is about facing death and the importance of following one's heart. The speaker encourages the audience to stay hungry and stay foolish as they begin anew.\n"
          ]
        }
      ],
      "source": [
        "# output_summary is a dict with 2 keys: 'input_documents' and 'output_text'\n",
        "# displaying the summary\n",
        "print(output_summary['output_text'])"
      ]
    },
    {
      "cell_type": "markdown",
      "id": "cb626999",
      "metadata": {
        "id": "cb626999"
      },
      "source": [
        "### Summarizing Large Documents Using map_reduce"
      ]
    },
    {
      "cell_type": "code",
      "execution_count": null,
      "id": "9dcc4a20",
      "metadata": {
        "id": "9dcc4a20"
      },
      "outputs": [],
      "source": [
        "from langchain import PromptTemplate\n",
        "from langchain_openai import ChatOpenAI\n",
        "from langchain.chains.summarize import load_summarize_chain\n",
        "from langchain.text_splitter import RecursiveCharacterTextSplitter"
      ]
    },
    {
      "cell_type": "code",
      "execution_count": null,
      "id": "1187c1b1",
      "metadata": {
        "id": "1187c1b1"
      },
      "outputs": [],
      "source": [
        "with open('./sj.txt', encoding='utf-8') as f:\n",
        "    text = f.read()\n",
        "\n",
        "llm = ChatOpenAI(temperature=0, model_name='gpt-3.5-turbo')"
      ]
    },
    {
      "cell_type": "code",
      "execution_count": null,
      "id": "dd7ad95a",
      "metadata": {
        "id": "dd7ad95a",
        "outputId": "227f6a4a-f534-4cce-a265-2cd3fb69c297",
        "colab": {
          "base_uri": "https://localhost:8080/"
        }
      },
      "outputs": [
        {
          "output_type": "execute_result",
          "data": {
            "text/plain": [
              "2653"
            ]
          },
          "metadata": {},
          "execution_count": 20
        }
      ],
      "source": [
        "llm.get_num_tokens(text)"
      ]
    },
    {
      "cell_type": "code",
      "execution_count": null,
      "id": "a210bf66",
      "metadata": {
        "id": "a210bf66"
      },
      "outputs": [],
      "source": [
        "text_splitter = RecursiveCharacterTextSplitter(chunk_size=10000, chunk_overlap=50)\n",
        "chunks = text_splitter.create_documents([text])"
      ]
    },
    {
      "cell_type": "code",
      "execution_count": null,
      "id": "0682a46e",
      "metadata": {
        "id": "0682a46e",
        "outputId": "60ef5295-6487-406f-9c2d-78729136b56a",
        "colab": {
          "base_uri": "https://localhost:8080/"
        }
      },
      "outputs": [
        {
          "output_type": "execute_result",
          "data": {
            "text/plain": [
              "2"
            ]
          },
          "metadata": {},
          "execution_count": 22
        }
      ],
      "source": [
        "len(chunks)"
      ]
    },
    {
      "cell_type": "code",
      "execution_count": null,
      "id": "595e25ad",
      "metadata": {
        "id": "595e25ad"
      },
      "outputs": [],
      "source": [
        "chain = load_summarize_chain(\n",
        "    llm,\n",
        "    chain_type='map_reduce',\n",
        "    verbose=False\n",
        ")\n",
        "output_summary = chain.invoke(chunks)"
      ]
    },
    {
      "cell_type": "code",
      "execution_count": null,
      "id": "356d16af",
      "metadata": {
        "id": "356d16af",
        "outputId": "543539ee-03f4-47c2-809b-be6c8dd16574",
        "colab": {
          "base_uri": "https://localhost:8080/"
        }
      },
      "outputs": [
        {
          "output_type": "stream",
          "name": "stdout",
          "text": [
            "The speaker, who did not graduate from college, shares personal stories at a university commencement about dropping out, being fired from his company, and facing a life-threatening illness. He emphasizes the importance of following one's passion, embracing change, and living each day fully. The speaker encourages the audience to trust their intuition, find what they love, and not settle for less. He reflects on death, urging authenticity, intuition, and a hunger for pursuing dreams. The speaker references The Whole Earth Catalog's message of curiosity and open-mindedness.\n"
          ]
        }
      ],
      "source": [
        "# output_summary is a dict with 2 keys: 'input_documents' and 'output_text'\n",
        "# displaying the summary\n",
        "print(output_summary['output_text'])"
      ]
    },
    {
      "cell_type": "code",
      "execution_count": null,
      "id": "b990ae48",
      "metadata": {
        "id": "b990ae48",
        "outputId": "dfa103c3-fcb3-4b86-c3cf-b19e9067f251",
        "colab": {
          "base_uri": "https://localhost:8080/",
          "height": 36
        }
      },
      "outputs": [
        {
          "output_type": "execute_result",
          "data": {
            "text/plain": [
              "'Write a concise summary of the following:\\n\\n\\n\"{text}\"\\n\\n\\nCONCISE SUMMARY:'"
            ],
            "application/vnd.google.colaboratory.intrinsic+json": {
              "type": "string"
            }
          },
          "metadata": {},
          "execution_count": 25
        }
      ],
      "source": [
        "chain.llm_chain.prompt.template"
      ]
    },
    {
      "cell_type": "code",
      "execution_count": null,
      "id": "3ccda898",
      "metadata": {
        "id": "3ccda898",
        "outputId": "187ec4a9-502b-4c7c-ef61-638a9cb5c31a",
        "colab": {
          "base_uri": "https://localhost:8080/",
          "height": 36
        }
      },
      "outputs": [
        {
          "output_type": "execute_result",
          "data": {
            "text/plain": [
              "'Write a concise summary of the following:\\n\\n\\n\"{text}\"\\n\\n\\nCONCISE SUMMARY:'"
            ],
            "application/vnd.google.colaboratory.intrinsic+json": {
              "type": "string"
            }
          },
          "metadata": {},
          "execution_count": 26
        }
      ],
      "source": [
        "chain.combine_document_chain.llm_chain.prompt.template"
      ]
    },
    {
      "cell_type": "markdown",
      "id": "0f966117",
      "metadata": {
        "id": "0f966117"
      },
      "source": [
        "### map_reduce wich Custom Prompts"
      ]
    },
    {
      "cell_type": "code",
      "execution_count": null,
      "id": "acc1a4c1",
      "metadata": {
        "id": "acc1a4c1"
      },
      "outputs": [],
      "source": [
        "map_prompt = '''\n",
        "Write a short and concise summary of the following:\n",
        "Text: `{text}`\n",
        "CONCISE SUMMARY:\n",
        "'''\n",
        "map_prompt_template = PromptTemplate(\n",
        "    input_variables=['text'],\n",
        "    template=map_prompt\n",
        ")"
      ]
    },
    {
      "cell_type": "code",
      "execution_count": null,
      "id": "d72905e7",
      "metadata": {
        "id": "d72905e7"
      },
      "outputs": [],
      "source": [
        "combine_prompt = '''\n",
        "Write a concise summary of the following text that covers the key points.\n",
        "Add a title to the summary.\n",
        "Start your summary with an INTRODUCTION PARAGRAPH that gives an overview of the topic FOLLOWED\n",
        "by BULLET POINTS if possible AND end the summary with a CONCLUSION PHRASE.\n",
        "Text: `{text}`\n",
        "'''\n",
        "combine_prompt_template = PromptTemplate(template=combine_prompt, input_variables=['text'])"
      ]
    },
    {
      "cell_type": "code",
      "execution_count": null,
      "id": "82f0f69c",
      "metadata": {
        "id": "82f0f69c"
      },
      "outputs": [],
      "source": [
        "summary_chain = load_summarize_chain(\n",
        "    llm=llm,\n",
        "    chain_type='map_reduce',\n",
        "    map_prompt=map_prompt_template,\n",
        "    combine_prompt=combine_prompt_template,\n",
        "    verbose=False\n",
        ")\n",
        "output = summary_chain.invoke(chunks)"
      ]
    },
    {
      "cell_type": "code",
      "execution_count": null,
      "id": "67ed0744",
      "metadata": {
        "id": "67ed0744",
        "outputId": "749800c6-d802-4dcb-be1b-01081ccffe28",
        "colab": {
          "base_uri": "https://localhost:8080/"
        }
      },
      "outputs": [
        {
          "output_type": "stream",
          "name": "stdout",
          "text": [
            "Title: Embracing Passion and Authenticity in Life\n",
            "\n",
            "Introduction:\n",
            "The text discusses the importance of following one's passion, embracing authenticity, and facing the inevitability of death to make meaningful choices in life.\n",
            "\n",
            "Key Points:\n",
            "- The speaker shares three stories from his life during a commencement speech\n",
            "- Story 1: Dropping out of college, finding passion for calligraphy, influencing Macintosh design\n",
            "- Story 2: Being fired from Apple, finding success with NeXT and Pixar\n",
            "- Story 3: Facing cancer diagnosis, emphasizing living each day as if it were the last\n",
            "- Emphasis on following passion, not settling, and embracing death to make meaningful choices\n",
            "\n",
            "Conclusion:\n",
            "The text encourages readers to stay hungry, stay foolish, and live authentically by following their intuition and passions.\n"
          ]
        }
      ],
      "source": [
        "# output is a dict with 2 keys: 'input_documents' and 'output_text'\n",
        "# displaying the summary\n",
        "print(output['output_text'])"
      ]
    },
    {
      "cell_type": "markdown",
      "id": "20c5b0dc",
      "metadata": {
        "id": "20c5b0dc"
      },
      "source": [
        "### Summarizing Using the refine Chain"
      ]
    },
    {
      "cell_type": "code",
      "execution_count": null,
      "id": "9cce0f56",
      "metadata": {
        "id": "9cce0f56"
      },
      "outputs": [],
      "source": [
        "from langchain_openai import ChatOpenAI\n",
        "from langchain import PromptTemplate\n",
        "from langchain.chains.summarize import load_summarize_chain\n",
        "from langchain.text_splitter import RecursiveCharacterTextSplitter\n",
        "# from langchain.document_loaders import UnstructuredPDFLoader\n",
        "from langchain.document_loaders import PyPDFLoader"
      ]
    },
    {
      "cell_type": "code",
      "execution_count": null,
      "id": "6e448dea",
      "metadata": {
        "id": "6e448dea",
        "outputId": "e9bf9aef-4a95-43d1-e943-a7a930a9727a",
        "colab": {
          "base_uri": "https://localhost:8080/"
        }
      },
      "outputs": [
        {
          "output_type": "execute_result",
          "data": {
            "text/plain": [
              "True"
            ]
          },
          "metadata": {},
          "execution_count": 32
        }
      ],
      "source": [
        "import os\n",
        "from dotenv import load_dotenv, find_dotenv\n",
        "load_dotenv(find_dotenv(), override=True)"
      ]
    },
    {
      "cell_type": "code",
      "execution_count": null,
      "id": "c9b1249f",
      "metadata": {
        "id": "c9b1249f"
      },
      "outputs": [],
      "source": [
        "# pip install -q pdf2image"
      ]
    },
    {
      "cell_type": "code",
      "execution_count": null,
      "id": "5a9f5954-f2f4-4c65-b1ce-7fd1315913c8",
      "metadata": {
        "id": "5a9f5954-f2f4-4c65-b1ce-7fd1315913c8"
      },
      "outputs": [],
      "source": [
        "# pip install -q pdfminer"
      ]
    },
    {
      "cell_type": "code",
      "execution_count": null,
      "id": "8b1e2c35",
      "metadata": {
        "id": "8b1e2c35"
      },
      "outputs": [],
      "source": [
        "# loader = UnstructuredPDFLoader('files/attention_is_all_you_need.pdf')\n",
        "loader = PyPDFLoader('./attention_is_all_you_need.pdf')\n",
        "data = loader.load()"
      ]
    },
    {
      "cell_type": "code",
      "execution_count": null,
      "id": "4c6d22b5",
      "metadata": {
        "id": "4c6d22b5"
      },
      "outputs": [],
      "source": [
        "# print(data[0].page_content)"
      ]
    },
    {
      "cell_type": "code",
      "execution_count": null,
      "id": "62c5f5d1",
      "metadata": {
        "id": "62c5f5d1"
      },
      "outputs": [],
      "source": [
        "text_splitter = RecursiveCharacterTextSplitter(chunk_size=10000, chunk_overlap=100)\n",
        "chunks = text_splitter.split_documents(data)"
      ]
    },
    {
      "cell_type": "code",
      "execution_count": null,
      "id": "a69020a2",
      "metadata": {
        "id": "a69020a2",
        "outputId": "df73e0c7-a962-4eab-8009-f2cfd193763f",
        "colab": {
          "base_uri": "https://localhost:8080/"
        }
      },
      "outputs": [
        {
          "output_type": "execute_result",
          "data": {
            "text/plain": [
              "15"
            ]
          },
          "metadata": {},
          "execution_count": 36
        }
      ],
      "source": [
        "len(chunks)"
      ]
    },
    {
      "cell_type": "code",
      "execution_count": null,
      "id": "caf44956",
      "metadata": {
        "id": "caf44956"
      },
      "outputs": [],
      "source": [
        "llm = ChatOpenAI(temperature=0, model_name='gpt-3.5-turbo')"
      ]
    },
    {
      "cell_type": "code",
      "execution_count": null,
      "id": "ff6bb943",
      "metadata": {
        "id": "ff6bb943",
        "outputId": "fa55e4ab-d047-476b-e7a0-c358b15ff0dc",
        "colab": {
          "base_uri": "https://localhost:8080/"
        }
      },
      "outputs": [
        {
          "output_type": "stream",
          "name": "stdout",
          "text": [
            "\n",
            "\n",
            "\u001b[1m> Entering new RefineDocumentsChain chain...\u001b[0m\n",
            "\n",
            "\n",
            "\u001b[1m> Entering new LLMChain chain...\u001b[0m\n",
            "Prompt after formatting:\n",
            "\u001b[32;1m\u001b[1;3mWrite a concise summary of the following:\n",
            "\n",
            "\n",
            "\"Attention Is All You Need\n",
            "Ashish Vaswani∗\n",
            "Google Brain\n",
            "avaswani@google.comNoam Shazeer∗\n",
            "Google Brain\n",
            "noam@google.comNiki Parmar∗\n",
            "Google Research\n",
            "nikip@google.comJakob Uszkoreit∗\n",
            "Google Research\n",
            "usz@google.com\n",
            "Llion Jones∗\n",
            "Google Research\n",
            "llion@google.comAidan N. Gomez∗†\n",
            "University of Toronto\n",
            "aidan@cs.toronto.eduŁukasz Kaiser∗\n",
            "Google Brain\n",
            "lukaszkaiser@google.com\n",
            "Illia Polosukhin∗‡\n",
            "illia.polosukhin@gmail.com\n",
            "Abstract\n",
            "The dominant sequence transduction models are based on complex recurrent or\n",
            "convolutional neural networks that include an encoder and a decoder. The best\n",
            "performing models also connect the encoder and decoder through an attention\n",
            "mechanism. We propose a new simple network architecture, the Transformer,\n",
            "based solely on attention mechanisms, dispensing with recurrence and convolutions\n",
            "entirely. Experiments on two machine translation tasks show these models to\n",
            "be superior in quality while being more parallelizable and requiring signiﬁcantly\n",
            "less time to train. Our model achieves 28.4 BLEU on the WMT 2014 English-\n",
            "to-German translation task, improving over the existing best results, including\n",
            "ensembles, by over 2 BLEU. On the WMT 2014 English-to-French translation task,\n",
            "our model establishes a new single-model state-of-the-art BLEU score of 41.8 after\n",
            "training for 3.5 days on eight GPUs, a small fraction of the training costs of the\n",
            "best models from the literature. We show that the Transformer generalizes well to\n",
            "other tasks by applying it successfully to English constituency parsing both with\n",
            "large and limited training data.\n",
            "1 Introduction\n",
            "Recurrent neural networks, long short-term memory [ 13] and gated recurrent [ 7] neural networks\n",
            "in particular, have been ﬁrmly established as state of the art approaches in sequence modeling and\n",
            "∗Equal contribution. Listing order is random. Jakob proposed replacing RNNs with self-attention and started\n",
            "the effort to evaluate this idea. Ashish, with Illia, designed and implemented the ﬁrst Transformer models and\n",
            "has been crucially involved in every aspect of this work. Noam proposed scaled dot-product attention, multi-head\n",
            "attention and the parameter-free position representation and became the other person involved in nearly every\n",
            "detail. Niki designed, implemented, tuned and evaluated countless model variants in our original codebase and\n",
            "tensor2tensor. Llion also experimented with novel model variants, was responsible for our initial codebase, and\n",
            "efﬁcient inference and visualizations. Lukasz and Aidan spent countless long days designing various parts of and\n",
            "implementing tensor2tensor, replacing our earlier codebase, greatly improving results and massively accelerating\n",
            "our research.\n",
            "†Work performed while at Google Brain.\n",
            "‡Work performed while at Google Research.\n",
            "31st Conference on Neural Information Processing Systems (NIPS 2017), Long Beach, CA, USA.arXiv:1706.03762v5  [cs.CL]  6 Dec 2017\"\n",
            "\n",
            "\n",
            "CONCISE SUMMARY:\u001b[0m\n",
            "\n",
            "\u001b[1m> Finished chain.\u001b[0m\n",
            "\n",
            "\n",
            "\u001b[1m> Entering new LLMChain chain...\u001b[0m\n",
            "Prompt after formatting:\n",
            "\u001b[32;1m\u001b[1;3mYour job is to produce a final summary.\n",
            "We have provided an existing summary up to a certain point: The paper \"Attention Is All You Need\" introduces a new network architecture called the Transformer, which is based solely on attention mechanisms and eliminates the need for recurrent or convolutional neural networks. The Transformer model outperforms existing models in machine translation tasks, achieving higher quality, better parallelizability, and faster training times. The model achieves state-of-the-art results on English-to-German and English-to-French translation tasks, as well as generalizes well to other tasks such as English constituency parsing. The authors highlight the contributions of various team members in designing, implementing, and evaluating the Transformer model.\n",
            "We have the opportunity to refine the existing summary (only if needed) with some more context below.\n",
            "------------\n",
            "transduction problems such as language modeling and machine translation [ 35,2,5]. Numerous\n",
            "efforts have since continued to push the boundaries of recurrent language models and encoder-decoder\n",
            "architectures [38, 24, 15].\n",
            "Recurrent models typically factor computation along the symbol positions of the input and output\n",
            "sequences. Aligning the positions to steps in computation time, they generate a sequence of hidden\n",
            "statesht, as a function of the previous hidden state ht−1and the input for position t. This inherently\n",
            "sequential nature precludes parallelization within training examples, which becomes critical at longer\n",
            "sequence lengths, as memory constraints limit batching across examples. Recent work has achieved\n",
            "signiﬁcant improvements in computational efﬁciency through factorization tricks [ 21] and conditional\n",
            "computation [ 32], while also improving model performance in case of the latter. The fundamental\n",
            "constraint of sequential computation, however, remains.\n",
            "Attention mechanisms have become an integral part of compelling sequence modeling and transduc-\n",
            "tion models in various tasks, allowing modeling of dependencies without regard to their distance in\n",
            "the input or output sequences [ 2,19]. In all but a few cases [ 27], however, such attention mechanisms\n",
            "are used in conjunction with a recurrent network.\n",
            "In this work we propose the Transformer, a model architecture eschewing recurrence and instead\n",
            "relying entirely on an attention mechanism to draw global dependencies between input and output.\n",
            "The Transformer allows for signiﬁcantly more parallelization and can reach a new state of the art in\n",
            "translation quality after being trained for as little as twelve hours on eight P100 GPUs.\n",
            "2 Background\n",
            "The goal of reducing sequential computation also forms the foundation of the Extended Neural GPU\n",
            "[16], ByteNet [ 18] and ConvS2S [ 9], all of which use convolutional neural networks as basic building\n",
            "block, computing hidden representations in parallel for all input and output positions. In these models,\n",
            "the number of operations required to relate signals from two arbitrary input or output positions grows\n",
            "in the distance between positions, linearly for ConvS2S and logarithmically for ByteNet. This makes\n",
            "it more difﬁcult to learn dependencies between distant positions [ 12]. In the Transformer this is\n",
            "reduced to a constant number of operations, albeit at the cost of reduced effective resolution due\n",
            "to averaging attention-weighted positions, an effect we counteract with Multi-Head Attention as\n",
            "described in section 3.2.\n",
            "Self-attention, sometimes called intra-attention is an attention mechanism relating different positions\n",
            "of a single sequence in order to compute a representation of the sequence. Self-attention has been\n",
            "used successfully in a variety of tasks including reading comprehension, abstractive summarization,\n",
            "textual entailment and learning task-independent sentence representations [4, 27, 28, 22].\n",
            "End-to-end memory networks are based on a recurrent attention mechanism instead of sequence-\n",
            "aligned recurrence and have been shown to perform well on simple-language question answering and\n",
            "language modeling tasks [34].\n",
            "To the best of our knowledge, however, the Transformer is the ﬁrst transduction model relying\n",
            "entirely on self-attention to compute representations of its input and output without using sequence-\n",
            "aligned RNNs or convolution. In the following sections, we will describe the Transformer, motivate\n",
            "self-attention and discuss its advantages over models such as [17, 18] and [9].\n",
            "3 Model Architecture\n",
            "Most competitive neural sequence transduction models have an encoder-decoder structure [ 5,2,35].\n",
            "Here, the encoder maps an input sequence of symbol representations (x1,...,x n)to a sequence\n",
            "of continuous representations z= (z1,...,z n). Given z, the decoder then generates an output\n",
            "sequence (y1,...,y m)of symbols one element at a time. At each step the model is auto-regressive\n",
            "[10], consuming the previously generated symbols as additional input when generating the next.\n",
            "The Transformer follows this overall architecture using stacked self-attention and point-wise, fully\n",
            "connected layers for both the encoder and decoder, shown in the left and right halves of Figure 1,\n",
            "respectively.\n",
            "2\n",
            "------------\n",
            "Given the new context, refine the original summary.\n",
            "If the context isn't useful, return the original summary.\u001b[0m\n",
            "\n",
            "\u001b[1m> Finished chain.\u001b[0m\n",
            "\n",
            "\n",
            "\u001b[1m> Entering new LLMChain chain...\u001b[0m\n",
            "Prompt after formatting:\n",
            "\u001b[32;1m\u001b[1;3mYour job is to produce a final summary.\n",
            "We have provided an existing summary up to a certain point: The paper \"Attention Is All You Need\" introduces the Transformer model, which relies solely on attention mechanisms and eliminates the need for recurrent or convolutional neural networks. The model outperforms existing models in machine translation tasks, achieving higher quality, better parallelizability, and faster training times. It achieves state-of-the-art results on various tasks such as English-to-German and English-to-French translation, as well as English constituency parsing. The Transformer model is able to draw global dependencies between input and output, allowing for more parallelization and reaching new levels of translation quality. The model architecture includes stacked self-attention and point-wise, fully connected layers for both the encoder and decoder. The paper highlights the advantages of self-attention over traditional models and discusses the Transformer's unique approach to sequence transduction.\n",
            "We have the opportunity to refine the existing summary (only if needed) with some more context below.\n",
            "------------\n",
            "Figure 1: The Transformer - model architecture.\n",
            "3.1 Encoder and Decoder Stacks\n",
            "Encoder: The encoder is composed of a stack of N= 6 identical layers. Each layer has two\n",
            "sub-layers. The ﬁrst is a multi-head self-attention mechanism, and the second is a simple, position-\n",
            "wise fully connected feed-forward network. We employ a residual connection [ 11] around each of\n",
            "the two sub-layers, followed by layer normalization [ 1]. That is, the output of each sub-layer is\n",
            "LayerNorm( x+ Sublayer( x)), where Sublayer(x)is the function implemented by the sub-layer\n",
            "itself. To facilitate these residual connections, all sub-layers in the model, as well as the embedding\n",
            "layers, produce outputs of dimension dmodel = 512 .\n",
            "Decoder: The decoder is also composed of a stack of N= 6identical layers. In addition to the two\n",
            "sub-layers in each encoder layer, the decoder inserts a third sub-layer, which performs multi-head\n",
            "attention over the output of the encoder stack. Similar to the encoder, we employ residual connections\n",
            "around each of the sub-layers, followed by layer normalization. We also modify the self-attention\n",
            "sub-layer in the decoder stack to prevent positions from attending to subsequent positions. This\n",
            "masking, combined with fact that the output embeddings are offset by one position, ensures that the\n",
            "predictions for position ican depend only on the known outputs at positions less than i.\n",
            "3.2 Attention\n",
            "An attention function can be described as mapping a query and a set of key-value pairs to an output,\n",
            "where the query, keys, values, and output are all vectors. The output is computed as a weighted sum\n",
            "of the values, where the weight assigned to each value is computed by a compatibility function of the\n",
            "query with the corresponding key.\n",
            "3\n",
            "------------\n",
            "Given the new context, refine the original summary.\n",
            "If the context isn't useful, return the original summary.\u001b[0m\n",
            "\n",
            "\u001b[1m> Finished chain.\u001b[0m\n",
            "\n",
            "\n",
            "\u001b[1m> Entering new LLMChain chain...\u001b[0m\n",
            "Prompt after formatting:\n",
            "\u001b[32;1m\u001b[1;3mYour job is to produce a final summary.\n",
            "We have provided an existing summary up to a certain point: The paper \"Attention Is All You Need\" introduces the Transformer model, which relies solely on attention mechanisms and eliminates the need for recurrent or convolutional neural networks. The model outperforms existing models in machine translation tasks, achieving higher quality, better parallelizability, and faster training times. It achieves state-of-the-art results on various tasks such as English-to-German and English-to-French translation, as well as English constituency parsing. The Transformer model is able to draw global dependencies between input and output, allowing for more parallelization and reaching new levels of translation quality. The model architecture includes stacked self-attention and point-wise, fully connected layers for both the encoder and decoder. The encoder consists of a stack of N=6 identical layers with multi-head self-attention and fully connected feed-forward networks, while the decoder also has N=6 identical layers with an additional sub-layer for multi-head attention over the encoder output. The attention function in the model computes a weighted sum of values based on the compatibility of queries with keys. The paper highlights the advantages of self-attention over traditional models and discusses the Transformer's unique approach to sequence transduction.\n",
            "We have the opportunity to refine the existing summary (only if needed) with some more context below.\n",
            "------------\n",
            "Scaled Dot-Product Attention\n",
            " Multi-Head Attention\n",
            "Figure 2: (left) Scaled Dot-Product Attention. (right) Multi-Head Attention consists of several\n",
            "attention layers running in parallel.\n",
            "3.2.1 Scaled Dot-Product Attention\n",
            "We call our particular attention \"Scaled Dot-Product Attention\" (Figure 2). The input consists of\n",
            "queries and keys of dimension dk, and values of dimension dv. We compute the dot products of the\n",
            "query with all keys, divide each by√dk, and apply a softmax function to obtain the weights on the\n",
            "values.\n",
            "In practice, we compute the attention function on a set of queries simultaneously, packed together\n",
            "into a matrix Q. The keys and values are also packed together into matrices KandV. We compute\n",
            "the matrix of outputs as:\n",
            "Attention(Q,K,V ) = softmax(QKT\n",
            "√dk)V (1)\n",
            "The two most commonly used attention functions are additive attention [ 2], and dot-product (multi-\n",
            "plicative) attention. Dot-product attention is identical to our algorithm, except for the scaling factor\n",
            "of1√dk. Additive attention computes the compatibility function using a feed-forward network with\n",
            "a single hidden layer. While the two are similar in theoretical complexity, dot-product attention is\n",
            "much faster and more space-efﬁcient in practice, since it can be implemented using highly optimized\n",
            "matrix multiplication code.\n",
            "While for small values of dkthe two mechanisms perform similarly, additive attention outperforms\n",
            "dot product attention without scaling for larger values of dk[3]. We suspect that for large values of\n",
            "dk, the dot products grow large in magnitude, pushing the softmax function into regions where it has\n",
            "extremely small gradients4. To counteract this effect, we scale the dot products by1√dk.\n",
            "3.2.2 Multi-Head Attention\n",
            "Instead of performing a single attention function with dmodel-dimensional keys, values and queries,\n",
            "we found it beneﬁcial to linearly project the queries, keys and values htimes with different, learned\n",
            "linear projections to dk,dkanddvdimensions, respectively. On each of these projected versions of\n",
            "queries, keys and values we then perform the attention function in parallel, yielding dv-dimensional\n",
            "output values. These are concatenated and once again projected, resulting in the ﬁnal values, as\n",
            "depicted in Figure 2.\n",
            "4To illustrate why the dot products get large, assume that the components of qandkare independent random\n",
            "variables with mean 0and variance 1. Then their dot product, q·k=∑dk\n",
            "i=1qiki, has mean 0and variance dk.\n",
            "4\n",
            "------------\n",
            "Given the new context, refine the original summary.\n",
            "If the context isn't useful, return the original summary.\u001b[0m\n",
            "\n",
            "\u001b[1m> Finished chain.\u001b[0m\n",
            "\n",
            "\n",
            "\u001b[1m> Entering new LLMChain chain...\u001b[0m\n",
            "Prompt after formatting:\n",
            "\u001b[32;1m\u001b[1;3mYour job is to produce a final summary.\n",
            "We have provided an existing summary up to a certain point: The paper \"Attention Is All You Need\" introduces the Transformer model, which relies solely on attention mechanisms and eliminates the need for recurrent or convolutional neural networks. The model outperforms existing models in machine translation tasks, achieving higher quality, better parallelizability, and faster training times. It achieves state-of-the-art results on various tasks such as English-to-German and English-to-French translation, as well as English constituency parsing. The Transformer model is able to draw global dependencies between input and output, allowing for more parallelization and reaching new levels of translation quality. The model architecture includes stacked self-attention and point-wise, fully connected layers for both the encoder and decoder. The encoder consists of a stack of N=6 identical layers with multi-head self-attention and fully connected feed-forward networks, while the decoder also has N=6 identical layers with an additional sub-layer for multi-head attention over the encoder output. The attention function in the model computes a weighted sum of values based on the compatibility of queries with keys. The paper highlights the advantages of self-attention over traditional models and discusses the Transformer's unique approach to sequence transduction. The paper also introduces Scaled Dot-Product Attention and Multi-Head Attention mechanisms, which enhance the model's performance by allowing for parallel processing and improved efficiency in handling large values of dk.\n",
            "We have the opportunity to refine the existing summary (only if needed) with some more context below.\n",
            "------------\n",
            "Multi-head attention allows the model to jointly attend to information from different representation\n",
            "subspaces at different positions. With a single attention head, averaging inhibits this.\n",
            "MultiHead( Q,K,V ) = Concat(head 1,...,head h)WO\n",
            "where head i= Attention( QWQ\n",
            "i,KWK\n",
            "i,VWV\n",
            "i)\n",
            "Where the projections are parameter matrices WQ\n",
            "i∈Rdmodel×dk,WK\n",
            "i∈Rdmodel×dk,WV\n",
            "i∈Rdmodel×dv\n",
            "andWO∈Rhdv×dmodel.\n",
            "In this work we employ h= 8 parallel attention layers, or heads. For each of these we use\n",
            "dk=dv=dmodel/h= 64 . Due to the reduced dimension of each head, the total computational cost\n",
            "is similar to that of single-head attention with full dimensionality.\n",
            "3.2.3 Applications of Attention in our Model\n",
            "The Transformer uses multi-head attention in three different ways:\n",
            "•In \"encoder-decoder attention\" layers, the queries come from the previous decoder layer,\n",
            "and the memory keys and values come from the output of the encoder. This allows every\n",
            "position in the decoder to attend over all positions in the input sequence. This mimics the\n",
            "typical encoder-decoder attention mechanisms in sequence-to-sequence models such as\n",
            "[38, 2, 9].\n",
            "•The encoder contains self-attention layers. In a self-attention layer all of the keys, values\n",
            "and queries come from the same place, in this case, the output of the previous layer in the\n",
            "encoder. Each position in the encoder can attend to all positions in the previous layer of the\n",
            "encoder.\n",
            "•Similarly, self-attention layers in the decoder allow each position in the decoder to attend to\n",
            "all positions in the decoder up to and including that position. We need to prevent leftward\n",
            "information ﬂow in the decoder to preserve the auto-regressive property. We implement this\n",
            "inside of scaled dot-product attention by masking out (setting to −∞) all values in the input\n",
            "of the softmax which correspond to illegal connections. See Figure 2.\n",
            "3.3 Position-wise Feed-Forward Networks\n",
            "In addition to attention sub-layers, each of the layers in our encoder and decoder contains a fully\n",
            "connected feed-forward network, which is applied to each position separately and identically. This\n",
            "consists of two linear transformations with a ReLU activation in between.\n",
            "FFN(x) = max(0,xW 1+b1)W2+b2 (2)\n",
            "While the linear transformations are the same across different positions, they use different parameters\n",
            "from layer to layer. Another way of describing this is as two convolutions with kernel size 1.\n",
            "The dimensionality of input and output is dmodel = 512 , and the inner-layer has dimensionality\n",
            "dff= 2048 .\n",
            "3.4 Embeddings and Softmax\n",
            "Similarly to other sequence transduction models, we use learned embeddings to convert the input\n",
            "tokens and output tokens to vectors of dimension dmodel. We also use the usual learned linear transfor-\n",
            "mation and softmax function to convert the decoder output to predicted next-token probabilities. In\n",
            "our model, we share the same weight matrix between the two embedding layers and the pre-softmax\n",
            "linear transformation, similar to [ 30]. In the embedding layers, we multiply those weights by√dmodel.\n",
            "3.5 Positional Encoding\n",
            "Since our model contains no recurrence and no convolution, in order for the model to make use of the\n",
            "order of the sequence, we must inject some information about the relative or absolute position of the\n",
            "5\n",
            "------------\n",
            "Given the new context, refine the original summary.\n",
            "If the context isn't useful, return the original summary.\u001b[0m\n",
            "\n",
            "\u001b[1m> Finished chain.\u001b[0m\n",
            "\n",
            "\n",
            "\u001b[1m> Entering new LLMChain chain...\u001b[0m\n",
            "Prompt after formatting:\n",
            "\u001b[32;1m\u001b[1;3mYour job is to produce a final summary.\n",
            "We have provided an existing summary up to a certain point: The paper \"Attention Is All You Need\" introduces the Transformer model, which relies solely on attention mechanisms and eliminates the need for recurrent or convolutional neural networks. The model outperforms existing models in machine translation tasks, achieving higher quality, better parallelizability, and faster training times. It achieves state-of-the-art results on various tasks such as English-to-German and English-to-French translation, as well as English constituency parsing. The Transformer model is able to draw global dependencies between input and output, allowing for more parallelization and reaching new levels of translation quality. The model architecture includes stacked self-attention and point-wise, fully connected layers for both the encoder and decoder. The encoder consists of a stack of N=6 identical layers with multi-head self-attention and fully connected feed-forward networks, while the decoder also has N=6 identical layers with an additional sub-layer for multi-head attention over the encoder output. The attention function in the model computes a weighted sum of values based on the compatibility of queries with keys. The paper highlights the advantages of self-attention over traditional models and discusses the Transformer's unique approach to sequence transduction. The paper also introduces Scaled Dot-Product Attention and Multi-Head Attention mechanisms, which enhance the model's performance by allowing for parallel processing and improved efficiency in handling large values of dk. The Transformer model uses multi-head attention in various ways, including encoder-decoder attention layers, self-attention layers in the encoder and decoder, and position-wise feed-forward networks. Additionally, the model utilizes embeddings, softmax functions, and positional encoding to improve the handling of input sequences and optimize translation quality.\n",
            "We have the opportunity to refine the existing summary (only if needed) with some more context below.\n",
            "------------\n",
            "Table 1: Maximum path lengths, per-layer complexity and minimum number of sequential operations\n",
            "for different layer types. nis the sequence length, dis the representation dimension, kis the kernel\n",
            "size of convolutions and rthe size of the neighborhood in restricted self-attention.\n",
            "Layer Type Complexity per Layer Sequential Maximum Path Length\n",
            "Operations\n",
            "Self-Attention O(n2·d) O(1) O(1)\n",
            "Recurrent O(n·d2) O(n) O(n)\n",
            "Convolutional O(k·n·d2)O(1) O(logk(n))\n",
            "Self-Attention (restricted) O(r·n·d)O(1) O(n/r)\n",
            "tokens in the sequence. To this end, we add \"positional encodings\" to the input embeddings at the\n",
            "bottoms of the encoder and decoder stacks. The positional encodings have the same dimension dmodel\n",
            "as the embeddings, so that the two can be summed. There are many choices of positional encodings,\n",
            "learned and ﬁxed [9].\n",
            "In this work, we use sine and cosine functions of different frequencies:\n",
            "PE(pos,2i)=sin(pos/100002i/d model)\n",
            "PE(pos,2i+1)=cos(pos/100002i/d model)\n",
            "whereposis the position and iis the dimension. That is, each dimension of the positional encoding\n",
            "corresponds to a sinusoid. The wavelengths form a geometric progression from 2πto10000·2π. We\n",
            "chose this function because we hypothesized it would allow the model to easily learn to attend by\n",
            "relative positions, since for any ﬁxed offset k,PEpos+kcan be represented as a linear function of\n",
            "PEpos.\n",
            "We also experimented with using learned positional embeddings [ 9] instead, and found that the two\n",
            "versions produced nearly identical results (see Table 3 row (E)). We chose the sinusoidal version\n",
            "because it may allow the model to extrapolate to sequence lengths longer than the ones encountered\n",
            "during training.\n",
            "4 Why Self-Attention\n",
            "In this section we compare various aspects of self-attention layers to the recurrent and convolu-\n",
            "tional layers commonly used for mapping one variable-length sequence of symbol representations\n",
            "(x1,...,x n)to another sequence of equal length (z1,...,z n), withxi,zi∈Rd, such as a hidden\n",
            "layer in a typical sequence transduction encoder or decoder. Motivating our use of self-attention we\n",
            "consider three desiderata.\n",
            "One is the total computational complexity per layer. Another is the amount of computation that can\n",
            "be parallelized, as measured by the minimum number of sequential operations required.\n",
            "The third is the path length between long-range dependencies in the network. Learning long-range\n",
            "dependencies is a key challenge in many sequence transduction tasks. One key factor affecting the\n",
            "ability to learn such dependencies is the length of the paths forward and backward signals have to\n",
            "traverse in the network. The shorter these paths between any combination of positions in the input\n",
            "and output sequences, the easier it is to learn long-range dependencies [ 12]. Hence we also compare\n",
            "the maximum path length between any two input and output positions in networks composed of the\n",
            "different layer types.\n",
            "As noted in Table 1, a self-attention layer connects all positions with a constant number of sequentially\n",
            "executed operations, whereas a recurrent layer requires O(n)sequential operations. In terms of\n",
            "computational complexity, self-attention layers are faster than recurrent layers when the sequence\n",
            "lengthnis smaller than the representation dimensionality d, which is most often the case with\n",
            "sentence representations used by state-of-the-art models in machine translations, such as word-piece\n",
            "[38] and byte-pair [ 31] representations. To improve computational performance for tasks involving\n",
            "very long sequences, self-attention could be restricted to considering only a neighborhood of size rin\n",
            "6\n",
            "------------\n",
            "Given the new context, refine the original summary.\n",
            "If the context isn't useful, return the original summary.\u001b[0m\n",
            "\n",
            "\u001b[1m> Finished chain.\u001b[0m\n",
            "\n",
            "\n",
            "\u001b[1m> Entering new LLMChain chain...\u001b[0m\n",
            "Prompt after formatting:\n",
            "\u001b[32;1m\u001b[1;3mYour job is to produce a final summary.\n",
            "We have provided an existing summary up to a certain point: The paper \"Attention Is All You Need\" introduces the Transformer model, which relies solely on attention mechanisms and eliminates the need for recurrent or convolutional neural networks. The model outperforms existing models in machine translation tasks, achieving higher quality, better parallelizability, and faster training times. It achieves state-of-the-art results on various tasks such as English-to-German and English-to-French translation, as well as English constituency parsing. The Transformer model is able to draw global dependencies between input and output, allowing for more parallelization and reaching new levels of translation quality. The model architecture includes stacked self-attention and point-wise, fully connected layers for both the encoder and decoder. The encoder consists of a stack of N=6 identical layers with multi-head self-attention and fully connected feed-forward networks, while the decoder also has N=6 identical layers with an additional sub-layer for multi-head attention over the encoder output. The attention function in the model computes a weighted sum of values based on the compatibility of queries with keys. The paper highlights the advantages of self-attention over traditional models and discusses the Transformer's unique approach to sequence transduction. The paper also introduces Scaled Dot-Product Attention and Multi-Head Attention mechanisms, which enhance the model's performance by allowing for parallel processing and improved efficiency in handling large values of dk. The Transformer model uses multi-head attention in various ways, including encoder-decoder attention layers, self-attention layers in the encoder and decoder, and position-wise feed-forward networks. Additionally, the model utilizes embeddings, softmax functions, and positional encoding to improve the handling of input sequences and optimize translation quality. The paper also discusses the use of positional encodings in the encoder and decoder stacks, using sine and cosine functions to allow the model to easily learn to attend by relative positions. The comparison of self-attention layers with recurrent and convolutional layers in terms of computational complexity, parallelizability, and path length between long-range dependencies is also explored.\n",
            "We have the opportunity to refine the existing summary (only if needed) with some more context below.\n",
            "------------\n",
            "the input sequence centered around the respective output position. This would increase the maximum\n",
            "path length to O(n/r). We plan to investigate this approach further in future work.\n",
            "A single convolutional layer with kernel width k<n does not connect all pairs of input and output\n",
            "positions. Doing so requires a stack of O(n/k)convolutional layers in the case of contiguous kernels,\n",
            "orO(logk(n))in the case of dilated convolutions [ 18], increasing the length of the longest paths\n",
            "between any two positions in the network. Convolutional layers are generally more expensive than\n",
            "recurrent layers, by a factor of k. Separable convolutions [ 6], however, decrease the complexity\n",
            "considerably, to O(k·n·d+n·d2). Even with k=n, however, the complexity of a separable\n",
            "convolution is equal to the combination of a self-attention layer and a point-wise feed-forward layer,\n",
            "the approach we take in our model.\n",
            "As side beneﬁt, self-attention could yield more interpretable models. We inspect attention distributions\n",
            "from our models and present and discuss examples in the appendix. Not only do individual attention\n",
            "heads clearly learn to perform different tasks, many appear to exhibit behavior related to the syntactic\n",
            "and semantic structure of the sentences.\n",
            "5 Training\n",
            "This section describes the training regime for our models.\n",
            "5.1 Training Data and Batching\n",
            "We trained on the standard WMT 2014 English-German dataset consisting of about 4.5 million\n",
            "sentence pairs. Sentences were encoded using byte-pair encoding [ 3], which has a shared source-\n",
            "target vocabulary of about 37000 tokens. For English-French, we used the signiﬁcantly larger WMT\n",
            "2014 English-French dataset consisting of 36M sentences and split tokens into a 32000 word-piece\n",
            "vocabulary [ 38]. Sentence pairs were batched together by approximate sequence length. Each training\n",
            "batch contained a set of sentence pairs containing approximately 25000 source tokens and 25000\n",
            "target tokens.\n",
            "5.2 Hardware and Schedule\n",
            "We trained our models on one machine with 8 NVIDIA P100 GPUs. For our base models using\n",
            "the hyperparameters described throughout the paper, each training step took about 0.4 seconds. We\n",
            "trained the base models for a total of 100,000 steps or 12 hours. For our big models,(described on the\n",
            "bottom line of table 3), step time was 1.0 seconds. The big models were trained for 300,000 steps\n",
            "(3.5 days).\n",
            "5.3 Optimizer\n",
            "We used the Adam optimizer [ 20] withβ1= 0.9,β2= 0.98andϵ= 10−9. We varied the learning\n",
            "rate over the course of training, according to the formula:\n",
            "lrate =d−0.5\n",
            "model·min(step_num−0.5,step _num·warmup _steps−1.5) (3)\n",
            "This corresponds to increasing the learning rate linearly for the ﬁrst warmup _steps training steps,\n",
            "and decreasing it thereafter proportionally to the inverse square root of the step number. We used\n",
            "warmup _steps = 4000 .\n",
            "5.4 Regularization\n",
            "We employ three types of regularization during training:\n",
            "Residual Dropout We apply dropout [ 33] to the output of each sub-layer, before it is added to the\n",
            "sub-layer input and normalized. In addition, we apply dropout to the sums of the embeddings and the\n",
            "positional encodings in both the encoder and decoder stacks. For the base model, we use a rate of\n",
            "Pdrop= 0.1.\n",
            "7\n",
            "------------\n",
            "Given the new context, refine the original summary.\n",
            "If the context isn't useful, return the original summary.\u001b[0m\n",
            "\n",
            "\u001b[1m> Finished chain.\u001b[0m\n",
            "\n",
            "\n",
            "\u001b[1m> Entering new LLMChain chain...\u001b[0m\n",
            "Prompt after formatting:\n",
            "\u001b[32;1m\u001b[1;3mYour job is to produce a final summary.\n",
            "We have provided an existing summary up to a certain point: The paper \"Attention Is All You Need\" introduces the Transformer model, which relies solely on attention mechanisms and eliminates the need for recurrent or convolutional neural networks. The model outperforms existing models in machine translation tasks, achieving higher quality, better parallelizability, and faster training times. It achieves state-of-the-art results on various tasks such as English-to-German and English-to-French translation, as well as English constituency parsing. The Transformer model is able to draw global dependencies between input and output, allowing for more parallelization and reaching new levels of translation quality. The model architecture includes stacked self-attention and point-wise, fully connected layers for both the encoder and decoder. The encoder consists of a stack of N=6 identical layers with multi-head self-attention and fully connected feed-forward networks, while the decoder also has N=6 identical layers with an additional sub-layer for multi-head attention over the encoder output. The attention function in the model computes a weighted sum of values based on the compatibility of queries with keys. The paper highlights the advantages of self-attention over traditional models and discusses the Transformer's unique approach to sequence transduction. The paper also introduces Scaled Dot-Product Attention and Multi-Head Attention mechanisms, which enhance the model's performance by allowing for parallel processing and improved efficiency in handling large values of dk. The Transformer model uses multi-head attention in various ways, including encoder-decoder attention layers, self-attention layers in the encoder and decoder, and position-wise feed-forward networks. Additionally, the model utilizes embeddings, softmax functions, and positional encoding to improve the handling of input sequences and optimize translation quality. The paper also discusses the use of positional encodings in the encoder and decoder stacks, using sine and cosine functions to allow the model to easily learn to attend by relative positions. The comparison of self-attention layers with recurrent and convolutional layers in terms of computational complexity, parallelizability, and path length between long-range dependencies is also explored. The paper further delves into the training regime for the models, including details on training data, batching, hardware, schedule, optimizer, and regularization techniques.\n",
            "We have the opportunity to refine the existing summary (only if needed) with some more context below.\n",
            "------------\n",
            "Table 2: The Transformer achieves better BLEU scores than previous state-of-the-art models on the\n",
            "English-to-German and English-to-French newstest2014 tests at a fraction of the training cost.\n",
            "ModelBLEU Training Cost (FLOPs)\n",
            "EN-DE EN-FR EN-DE EN-FR\n",
            "ByteNet [18] 23.75\n",
            "Deep-Att + PosUnk [39] 39.2 1.0·1020\n",
            "GNMT + RL [38] 24.6 39.92 2.3·10191.4·1020\n",
            "ConvS2S [9] 25.16 40.46 9.6·10181.5·1020\n",
            "MoE [32] 26.03 40.56 2.0·10191.2·1020\n",
            "Deep-Att + PosUnk Ensemble [39] 40.4 8.0·1020\n",
            "GNMT + RL Ensemble [38] 26.30 41.16 1.8·10201.1·1021\n",
            "ConvS2S Ensemble [9] 26.36 41.29 7.7·10191.2·1021\n",
            "Transformer (base model) 27.3 38.1 3.3·1018\n",
            "Transformer (big) 28.4 41.8 2.3·1019\n",
            "Label Smoothing During training, we employed label smoothing of value ϵls= 0.1[36]. This\n",
            "hurts perplexity, as the model learns to be more unsure, but improves accuracy and BLEU score.\n",
            "6 Results\n",
            "6.1 Machine Translation\n",
            "On the WMT 2014 English-to-German translation task, the big transformer model (Transformer (big)\n",
            "in Table 2) outperforms the best previously reported models (including ensembles) by more than 2.0\n",
            "BLEU, establishing a new state-of-the-art BLEU score of 28.4. The conﬁguration of this model is\n",
            "listed in the bottom line of Table 3. Training took 3.5days on 8P100 GPUs. Even our base model\n",
            "surpasses all previously published models and ensembles, at a fraction of the training cost of any of\n",
            "the competitive models.\n",
            "On the WMT 2014 English-to-French translation task, our big model achieves a BLEU score of 41.0,\n",
            "outperforming all of the previously published single models, at less than 1/4the training cost of the\n",
            "previous state-of-the-art model. The Transformer (big) model trained for English-to-French used\n",
            "dropout rate Pdrop= 0.1, instead of 0.3.\n",
            "For the base models, we used a single model obtained by averaging the last 5 checkpoints, which\n",
            "were written at 10-minute intervals. For the big models, we averaged the last 20 checkpoints. We\n",
            "used beam search with a beam size of 4and length penalty α= 0.6[38]. These hyperparameters\n",
            "were chosen after experimentation on the development set. We set the maximum output length during\n",
            "inference to input length + 50, but terminate early when possible [38].\n",
            "Table 2 summarizes our results and compares our translation quality and training costs to other model\n",
            "architectures from the literature. We estimate the number of ﬂoating point operations used to train a\n",
            "model by multiplying the training time, the number of GPUs used, and an estimate of the sustained\n",
            "single-precision ﬂoating-point capacity of each GPU5.\n",
            "6.2 Model Variations\n",
            "To evaluate the importance of different components of the Transformer, we varied our base model\n",
            "in different ways, measuring the change in performance on English-to-German translation on the\n",
            "development set, newstest2013. We used beam search as described in the previous section, but no\n",
            "checkpoint averaging. We present these results in Table 3.\n",
            "In Table 3 rows (A), we vary the number of attention heads and the attention key and value dimensions,\n",
            "keeping the amount of computation constant, as described in Section 3.2.2. While single-head\n",
            "attention is 0.9 BLEU worse than the best setting, quality also drops off with too many heads.\n",
            "5We used values of 2.8, 3.7, 6.0 and 9.5 TFLOPS for K80, K40, M40 and P100, respectively.\n",
            "8\n",
            "------------\n",
            "Given the new context, refine the original summary.\n",
            "If the context isn't useful, return the original summary.\u001b[0m\n",
            "\n",
            "\u001b[1m> Finished chain.\u001b[0m\n",
            "\n",
            "\n",
            "\u001b[1m> Entering new LLMChain chain...\u001b[0m\n",
            "Prompt after formatting:\n",
            "\u001b[32;1m\u001b[1;3mYour job is to produce a final summary.\n",
            "We have provided an existing summary up to a certain point: The paper \"Attention Is All You Need\" introduces the Transformer model, which relies solely on attention mechanisms and outperforms existing models in machine translation tasks. The model achieves state-of-the-art results on various tasks such as English-to-German and English-to-French translation, as well as English constituency parsing. The Transformer model is able to draw global dependencies between input and output, allowing for more parallelization and reaching new levels of translation quality. The model architecture includes stacked self-attention and point-wise, fully connected layers for both the encoder and decoder. The attention function in the model computes a weighted sum of values based on the compatibility of queries with keys. The paper also discusses the use of Scaled Dot-Product Attention and Multi-Head Attention mechanisms to enhance the model's performance. Additionally, the paper delves into the training regime for the models, including details on training data, batching, hardware, schedule, optimizer, and regularization techniques. The Transformer model achieves better BLEU scores than previous state-of-the-art models on the English-to-German and English-to-French translation tasks at a fraction of the training cost. The big Transformer model establishes a new state-of-the-art BLEU score of 28.4 for English-to-German translation and a BLEU score of 41.0 for English-to-French translation. The paper also evaluates the importance of different components of the Transformer model and presents variations in model performance on English-to-German translation.\n",
            "We have the opportunity to refine the existing summary (only if needed) with some more context below.\n",
            "------------\n",
            "Table 3: Variations on the Transformer architecture. Unlisted values are identical to those of the base\n",
            "model. All metrics are on the English-to-German translation development set, newstest2013. Listed\n",
            "perplexities are per-wordpiece, according to our byte-pair encoding, and should not be compared to\n",
            "per-word perplexities.\n",
            "N d modeldffh d kdvPdropϵlstrain PPL BLEU params\n",
            "steps (dev) (dev)×106\n",
            "base 6 512 2048 8 64 64 0.1 0.1 100K 4.92 25.8 65\n",
            "(A)1 512 512 5.29 24.9\n",
            "4 128 128 5.00 25.5\n",
            "16 32 32 4.91 25.8\n",
            "32 16 16 5.01 25.4\n",
            "(B)16 5.16 25.1 58\n",
            "32 5.01 25.4 60\n",
            "(C)2 6.11 23.7 36\n",
            "4 5.19 25.3 50\n",
            "8 4.88 25.5 80\n",
            "256 32 32 5.75 24.5 28\n",
            "1024 128 128 4.66 26.0 168\n",
            "1024 5.12 25.4 53\n",
            "4096 4.75 26.2 90\n",
            "(D)0.0 5.77 24.6\n",
            "0.2 4.95 25.5\n",
            "0.0 4.67 25.3\n",
            "0.2 5.47 25.7\n",
            "(E) positional embedding instead of sinusoids 4.92 25.7\n",
            "big 6 1024 4096 16 0.3 300K 4.33 26.4 213\n",
            "Table 4: The Transformer generalizes well to English constituency parsing (Results are on Section 23\n",
            "of WSJ)\n",
            "Parser Training WSJ 23 F1\n",
            "Vinyals & Kaiser el al. (2014) [37] WSJ only, discriminative 88.3\n",
            "Petrov et al. (2006) [29] WSJ only, discriminative 90.4\n",
            "Zhu et al. (2013) [40] WSJ only, discriminative 90.4\n",
            "Dyer et al. (2016) [8] WSJ only, discriminative 91.7\n",
            "Transformer (4 layers) WSJ only, discriminative 91.3\n",
            "Zhu et al. (2013) [40] semi-supervised 91.3\n",
            "Huang & Harper (2009) [14] semi-supervised 91.3\n",
            "McClosky et al. (2006) [26] semi-supervised 92.1\n",
            "Vinyals & Kaiser el al. (2014) [37] semi-supervised 92.1\n",
            "Transformer (4 layers) semi-supervised 92.7\n",
            "Luong et al. (2015) [23] multi-task 93.0\n",
            "Dyer et al. (2016) [8] generative 93.3\n",
            "In Table 3 rows (B), we observe that reducing the attention key size dkhurts model quality. This\n",
            "suggests that determining compatibility is not easy and that a more sophisticated compatibility\n",
            "function than dot product may be beneﬁcial. We further observe in rows (C) and (D) that, as expected,\n",
            "bigger models are better, and dropout is very helpful in avoiding over-ﬁtting. In row (E) we replace our\n",
            "sinusoidal positional encoding with learned positional embeddings [ 9], and observe nearly identical\n",
            "results to the base model.\n",
            "6.3 English Constituency Parsing\n",
            "To evaluate if the Transformer can generalize to other tasks we performed experiments on English\n",
            "constituency parsing. This task presents speciﬁc challenges: the output is subject to strong structural\n",
            "9\n",
            "------------\n",
            "Given the new context, refine the original summary.\n",
            "If the context isn't useful, return the original summary.\u001b[0m\n",
            "\n",
            "\u001b[1m> Finished chain.\u001b[0m\n",
            "\n",
            "\n",
            "\u001b[1m> Entering new LLMChain chain...\u001b[0m\n",
            "Prompt after formatting:\n",
            "\u001b[32;1m\u001b[1;3mYour job is to produce a final summary.\n",
            "We have provided an existing summary up to a certain point: The paper \"Attention Is All You Need\" introduces the Transformer model, which relies solely on attention mechanisms and outperforms existing models in machine translation tasks. The model achieves state-of-the-art results on various tasks such as English-to-German and English-to-French translation, as well as English constituency parsing. The Transformer model is able to draw global dependencies between input and output, allowing for more parallelization and reaching new levels of translation quality. The model architecture includes stacked self-attention and point-wise, fully connected layers for both the encoder and decoder. The attention function in the model computes a weighted sum of values based on the compatibility of queries with keys. The paper also discusses the use of Scaled Dot-Product Attention and Multi-Head Attention mechanisms to enhance the model's performance. Additionally, the paper delves into the training regime for the models, including details on training data, batching, hardware, schedule, optimizer, and regularization techniques. The Transformer model achieves better BLEU scores than previous state-of-the-art models on the English-to-German and English-to-French translation tasks at a fraction of the training cost. The big Transformer model establishes a new state-of-the-art BLEU score of 28.4 for English-to-German translation and a BLEU score of 41.0 for English-to-French translation. The paper also evaluates the importance of different components of the Transformer model and presents variations in model performance on English-to-German translation. The paper also explores variations in the Transformer architecture, showing the impact of different parameters on model performance. Additionally, the paper demonstrates the Transformer's ability to generalize well to English constituency parsing, achieving competitive results compared to other models on this task.\n",
            "We have the opportunity to refine the existing summary (only if needed) with some more context below.\n",
            "------------\n",
            "constraints and is signiﬁcantly longer than the input. Furthermore, RNN sequence-to-sequence\n",
            "models have not been able to attain state-of-the-art results in small-data regimes [37].\n",
            "We trained a 4-layer transformer with dmodel = 1024 on the Wall Street Journal (WSJ) portion of the\n",
            "Penn Treebank [ 25], about 40K training sentences. We also trained it in a semi-supervised setting,\n",
            "using the larger high-conﬁdence and BerkleyParser corpora from with approximately 17M sentences\n",
            "[37]. We used a vocabulary of 16K tokens for the WSJ only setting and a vocabulary of 32K tokens\n",
            "for the semi-supervised setting.\n",
            "We performed only a small number of experiments to select the dropout, both attention and residual\n",
            "(section 5.4), learning rates and beam size on the Section 22 development set, all other parameters\n",
            "remained unchanged from the English-to-German base translation model. During inference, we\n",
            "increased the maximum output length to input length + 300. We used a beam size of 21andα= 0.3\n",
            "for both WSJ only and the semi-supervised setting.\n",
            "Our results in Table 4 show that despite the lack of task-speciﬁc tuning our model performs sur-\n",
            "prisingly well, yielding better results than all previously reported models with the exception of the\n",
            "Recurrent Neural Network Grammar [8].\n",
            "In contrast to RNN sequence-to-sequence models [ 37], the Transformer outperforms the Berkeley-\n",
            "Parser [29] even when training only on the WSJ training set of 40K sentences.\n",
            "7 Conclusion\n",
            "In this work, we presented the Transformer, the ﬁrst sequence transduction model based entirely on\n",
            "attention, replacing the recurrent layers most commonly used in encoder-decoder architectures with\n",
            "multi-headed self-attention.\n",
            "For translation tasks, the Transformer can be trained signiﬁcantly faster than architectures based\n",
            "on recurrent or convolutional layers. On both WMT 2014 English-to-German and WMT 2014\n",
            "English-to-French translation tasks, we achieve a new state of the art. In the former task our best\n",
            "model outperforms even all previously reported ensembles.\n",
            "We are excited about the future of attention-based models and plan to apply them to other tasks. We\n",
            "plan to extend the Transformer to problems involving input and output modalities other than text and\n",
            "to investigate local, restricted attention mechanisms to efﬁciently handle large inputs and outputs\n",
            "such as images, audio and video. Making generation less sequential is another research goals of ours.\n",
            "The code we used to train and evaluate our models is available at https://github.com/\n",
            "tensorflow/tensor2tensor .\n",
            "Acknowledgements We are grateful to Nal Kalchbrenner and Stephan Gouws for their fruitful\n",
            "comments, corrections and inspiration.\n",
            "References\n",
            "[1]Jimmy Lei Ba, Jamie Ryan Kiros, and Geoffrey E Hinton. Layer normalization. arXiv preprint\n",
            "arXiv:1607.06450 , 2016.\n",
            "[2]Dzmitry Bahdanau, Kyunghyun Cho, and Yoshua Bengio. Neural machine translation by jointly\n",
            "learning to align and translate. CoRR , abs/1409.0473, 2014.\n",
            "[3]Denny Britz, Anna Goldie, Minh-Thang Luong, and Quoc V . Le. Massive exploration of neural\n",
            "machine translation architectures. CoRR , abs/1703.03906, 2017.\n",
            "[4]Jianpeng Cheng, Li Dong, and Mirella Lapata. Long short-term memory-networks for machine\n",
            "reading. arXiv preprint arXiv:1601.06733 , 2016.\n",
            "[5]Kyunghyun Cho, Bart van Merrienboer, Caglar Gulcehre, Fethi Bougares, Holger Schwenk,\n",
            "and Yoshua Bengio. Learning phrase representations using rnn encoder-decoder for statistical\n",
            "machine translation. CoRR , abs/1406.1078, 2014.\n",
            "[6]Francois Chollet. Xception: Deep learning with depthwise separable convolutions. arXiv\n",
            "preprint arXiv:1610.02357 , 2016.\n",
            "10\n",
            "------------\n",
            "Given the new context, refine the original summary.\n",
            "If the context isn't useful, return the original summary.\u001b[0m\n",
            "\n",
            "\u001b[1m> Finished chain.\u001b[0m\n",
            "\n",
            "\n",
            "\u001b[1m> Entering new LLMChain chain...\u001b[0m\n",
            "Prompt after formatting:\n",
            "\u001b[32;1m\u001b[1;3mYour job is to produce a final summary.\n",
            "We have provided an existing summary up to a certain point: The paper \"Attention Is All You Need\" introduces the Transformer model, which relies solely on attention mechanisms and outperforms existing models in machine translation tasks. The model achieves state-of-the-art results on various tasks such as English-to-German and English-to-French translation, as well as English constituency parsing. The Transformer model is able to draw global dependencies between input and output, allowing for more parallelization and reaching new levels of translation quality. The model architecture includes stacked self-attention and point-wise, fully connected layers for both the encoder and decoder. The attention function in the model computes a weighted sum of values based on the compatibility of queries with keys. The paper also discusses the use of Scaled Dot-Product Attention and Multi-Head Attention mechanisms to enhance the model's performance. Additionally, the paper delves into the training regime for the models, including details on training data, batching, hardware, schedule, optimizer, and regularization techniques. The Transformer model achieves better BLEU scores than previous state-of-the-art models on the English-to-German and English-to-French translation tasks at a fraction of the training cost. The big Transformer model establishes a new state-of-the-art BLEU score of 28.4 for English-to-German translation and a BLEU score of 41.0 for English-to-French translation. The paper also evaluates the importance of different components of the Transformer model and presents variations in model performance on English-to-German translation. The paper also explores variations in the Transformer architecture, showing the impact of different parameters on model performance. Additionally, the paper demonstrates the Transformer's ability to generalize well to English constituency parsing, achieving competitive results compared to other models on this task. The Transformer model is trained on the Wall Street Journal portion of the Penn Treebank with 40K training sentences and achieves impressive results without task-specific tuning, outperforming previous models except for the Recurrent Neural Network Grammar. The Transformer model presents a new approach to sequence transduction based entirely on attention, offering faster training and state-of-the-art performance on translation tasks. The authors plan to extend the Transformer model to other tasks and explore local attention mechanisms for handling large inputs and outputs efficiently.\n",
            "We have the opportunity to refine the existing summary (only if needed) with some more context below.\n",
            "------------\n",
            "[7]Junyoung Chung, Çaglar Gülçehre, Kyunghyun Cho, and Yoshua Bengio. Empirical evaluation\n",
            "of gated recurrent neural networks on sequence modeling. CoRR , abs/1412.3555, 2014.\n",
            "[8]Chris Dyer, Adhiguna Kuncoro, Miguel Ballesteros, and Noah A. Smith. Recurrent neural\n",
            "network grammars. In Proc. of NAACL , 2016.\n",
            "[9]Jonas Gehring, Michael Auli, David Grangier, Denis Yarats, and Yann N. Dauphin. Convolu-\n",
            "tional sequence to sequence learning. arXiv preprint arXiv:1705.03122v2 , 2017.\n",
            "[10] Alex Graves. Generating sequences with recurrent neural networks. arXiv preprint\n",
            "arXiv:1308.0850 , 2013.\n",
            "[11] Kaiming He, Xiangyu Zhang, Shaoqing Ren, and Jian Sun. Deep residual learning for im-\n",
            "age recognition. In Proceedings of the IEEE Conference on Computer Vision and Pattern\n",
            "Recognition , pages 770–778, 2016.\n",
            "[12] Sepp Hochreiter, Yoshua Bengio, Paolo Frasconi, and Jürgen Schmidhuber. Gradient ﬂow in\n",
            "recurrent nets: the difﬁculty of learning long-term dependencies, 2001.\n",
            "[13] Sepp Hochreiter and Jürgen Schmidhuber. Long short-term memory. Neural computation ,\n",
            "9(8):1735–1780, 1997.\n",
            "[14] Zhongqiang Huang and Mary Harper. Self-training PCFG grammars with latent annotations\n",
            "across languages. In Proceedings of the 2009 Conference on Empirical Methods in Natural\n",
            "Language Processing , pages 832–841. ACL, August 2009.\n",
            "[15] Rafal Jozefowicz, Oriol Vinyals, Mike Schuster, Noam Shazeer, and Yonghui Wu. Exploring\n",
            "the limits of language modeling. arXiv preprint arXiv:1602.02410 , 2016.\n",
            "[16] Łukasz Kaiser and Samy Bengio. Can active memory replace attention? In Advances in Neural\n",
            "Information Processing Systems, (NIPS) , 2016.\n",
            "[17] Łukasz Kaiser and Ilya Sutskever. Neural GPUs learn algorithms. In International Conference\n",
            "on Learning Representations (ICLR) , 2016.\n",
            "[18] Nal Kalchbrenner, Lasse Espeholt, Karen Simonyan, Aaron van den Oord, Alex Graves, and Ko-\n",
            "ray Kavukcuoglu. Neural machine translation in linear time. arXiv preprint arXiv:1610.10099v2 ,\n",
            "2017.\n",
            "[19] Yoon Kim, Carl Denton, Luong Hoang, and Alexander M. Rush. Structured attention networks.\n",
            "InInternational Conference on Learning Representations , 2017.\n",
            "[20] Diederik Kingma and Jimmy Ba. Adam: A method for stochastic optimization. In ICLR , 2015.\n",
            "[21] Oleksii Kuchaiev and Boris Ginsburg. Factorization tricks for LSTM networks. arXiv preprint\n",
            "arXiv:1703.10722 , 2017.\n",
            "[22] Zhouhan Lin, Minwei Feng, Cicero Nogueira dos Santos, Mo Yu, Bing Xiang, Bowen\n",
            "Zhou, and Yoshua Bengio. A structured self-attentive sentence embedding. arXiv preprint\n",
            "arXiv:1703.03130 , 2017.\n",
            "[23] Minh-Thang Luong, Quoc V . Le, Ilya Sutskever, Oriol Vinyals, and Lukasz Kaiser. Multi-task\n",
            "sequence to sequence learning. arXiv preprint arXiv:1511.06114 , 2015.\n",
            "[24] Minh-Thang Luong, Hieu Pham, and Christopher D Manning. Effective approaches to attention-\n",
            "based neural machine translation. arXiv preprint arXiv:1508.04025 , 2015.\n",
            "[25] Mitchell P Marcus, Mary Ann Marcinkiewicz, and Beatrice Santorini. Building a large annotated\n",
            "corpus of english: The penn treebank. Computational linguistics , 19(2):313–330, 1993.\n",
            "[26] David McClosky, Eugene Charniak, and Mark Johnson. Effective self-training for parsing. In\n",
            "Proceedings of the Human Language Technology Conference of the NAACL, Main Conference ,\n",
            "pages 152–159. ACL, June 2006.\n",
            "11\n",
            "------------\n",
            "Given the new context, refine the original summary.\n",
            "If the context isn't useful, return the original summary.\u001b[0m\n",
            "\n",
            "\u001b[1m> Finished chain.\u001b[0m\n",
            "\n",
            "\n",
            "\u001b[1m> Entering new LLMChain chain...\u001b[0m\n",
            "Prompt after formatting:\n",
            "\u001b[32;1m\u001b[1;3mYour job is to produce a final summary.\n",
            "We have provided an existing summary up to a certain point: The paper \"Attention Is All You Need\" introduces the Transformer model, which relies solely on attention mechanisms and outperforms existing models in machine translation tasks. The model achieves state-of-the-art results on various tasks such as English-to-German and English-to-French translation, as well as English constituency parsing. The Transformer model is able to draw global dependencies between input and output, allowing for more parallelization and reaching new levels of translation quality. The model architecture includes stacked self-attention and point-wise, fully connected layers for both the encoder and decoder. The attention function in the model computes a weighted sum of values based on the compatibility of queries with keys. The paper also discusses the use of Scaled Dot-Product Attention and Multi-Head Attention mechanisms to enhance the model's performance. Additionally, the paper delves into the training regime for the models, including details on training data, batching, hardware, schedule, optimizer, and regularization techniques. The Transformer model achieves better BLEU scores than previous state-of-the-art models on the English-to-German and English-to-French translation tasks at a fraction of the training cost. The big Transformer model establishes a new state-of-the-art BLEU score of 28.4 for English-to-German translation and a BLEU score of 41.0 for English-to-French translation. The paper also evaluates the importance of different components of the Transformer model and presents variations in model performance on English-to-German translation. The paper also explores variations in the Transformer architecture, showing the impact of different parameters on model performance. Additionally, the paper demonstrates the Transformer's ability to generalize well to English constituency parsing, achieving competitive results compared to other models on this task. The Transformer model is trained on the Wall Street Journal portion of the Penn Treebank with 40K training sentences and achieves impressive results without task-specific tuning, outperforming previous models except for the Recurrent Neural Network Grammar. The Transformer model presents a new approach to sequence transduction based entirely on attention, offering faster training and state-of-the-art performance on translation tasks. The authors plan to extend the Transformer model to other tasks and explore local attention mechanisms for handling large inputs and outputs efficiently. The paper also references related works in the field of sequence modeling and neural networks, providing additional context for the Transformer model's development and performance evaluation.\n",
            "We have the opportunity to refine the existing summary (only if needed) with some more context below.\n",
            "------------\n",
            "[27] Ankur Parikh, Oscar Täckström, Dipanjan Das, and Jakob Uszkoreit. A decomposable attention\n",
            "model. In Empirical Methods in Natural Language Processing , 2016.\n",
            "[28] Romain Paulus, Caiming Xiong, and Richard Socher. A deep reinforced model for abstractive\n",
            "summarization. arXiv preprint arXiv:1705.04304 , 2017.\n",
            "[29] Slav Petrov, Leon Barrett, Romain Thibaux, and Dan Klein. Learning accurate, compact,\n",
            "and interpretable tree annotation. In Proceedings of the 21st International Conference on\n",
            "Computational Linguistics and 44th Annual Meeting of the ACL , pages 433–440. ACL, July\n",
            "2006.\n",
            "[30] Oﬁr Press and Lior Wolf. Using the output embedding to improve language models. arXiv\n",
            "preprint arXiv:1608.05859 , 2016.\n",
            "[31] Rico Sennrich, Barry Haddow, and Alexandra Birch. Neural machine translation of rare words\n",
            "with subword units. arXiv preprint arXiv:1508.07909 , 2015.\n",
            "[32] Noam Shazeer, Azalia Mirhoseini, Krzysztof Maziarz, Andy Davis, Quoc Le, Geoffrey Hinton,\n",
            "and Jeff Dean. Outrageously large neural networks: The sparsely-gated mixture-of-experts\n",
            "layer. arXiv preprint arXiv:1701.06538 , 2017.\n",
            "[33] Nitish Srivastava, Geoffrey E Hinton, Alex Krizhevsky, Ilya Sutskever, and Ruslan Salakhutdi-\n",
            "nov. Dropout: a simple way to prevent neural networks from overﬁtting. Journal of Machine\n",
            "Learning Research , 15(1):1929–1958, 2014.\n",
            "[34] Sainbayar Sukhbaatar, Arthur Szlam, Jason Weston, and Rob Fergus. End-to-end memory\n",
            "networks. In C. Cortes, N. D. Lawrence, D. D. Lee, M. Sugiyama, and R. Garnett, editors,\n",
            "Advances in Neural Information Processing Systems 28 , pages 2440–2448. Curran Associates,\n",
            "Inc., 2015.\n",
            "[35] Ilya Sutskever, Oriol Vinyals, and Quoc VV Le. Sequence to sequence learning with neural\n",
            "networks. In Advances in Neural Information Processing Systems , pages 3104–3112, 2014.\n",
            "[36] Christian Szegedy, Vincent Vanhoucke, Sergey Ioffe, Jonathon Shlens, and Zbigniew Wojna.\n",
            "Rethinking the inception architecture for computer vision. CoRR , abs/1512.00567, 2015.\n",
            "[37] Vinyals & Kaiser, Koo, Petrov, Sutskever, and Hinton. Grammar as a foreign language. In\n",
            "Advances in Neural Information Processing Systems , 2015.\n",
            "[38] Yonghui Wu, Mike Schuster, Zhifeng Chen, Quoc V Le, Mohammad Norouzi, Wolfgang\n",
            "Macherey, Maxim Krikun, Yuan Cao, Qin Gao, Klaus Macherey, et al. Google’s neural machine\n",
            "translation system: Bridging the gap between human and machine translation. arXiv preprint\n",
            "arXiv:1609.08144 , 2016.\n",
            "[39] Jie Zhou, Ying Cao, Xuguang Wang, Peng Li, and Wei Xu. Deep recurrent models with\n",
            "fast-forward connections for neural machine translation. CoRR , abs/1606.04199, 2016.\n",
            "[40] Muhua Zhu, Yue Zhang, Wenliang Chen, Min Zhang, and Jingbo Zhu. Fast and accurate\n",
            "shift-reduce constituent parsing. In Proceedings of the 51st Annual Meeting of the ACL (Volume\n",
            "1: Long Papers) , pages 434–443. ACL, August 2013.\n",
            "12\n",
            "------------\n",
            "Given the new context, refine the original summary.\n",
            "If the context isn't useful, return the original summary.\u001b[0m\n",
            "\n",
            "\u001b[1m> Finished chain.\u001b[0m\n",
            "\n",
            "\n",
            "\u001b[1m> Entering new LLMChain chain...\u001b[0m\n",
            "Prompt after formatting:\n",
            "\u001b[32;1m\u001b[1;3mYour job is to produce a final summary.\n",
            "We have provided an existing summary up to a certain point: The existing summary of the paper \"Attention Is All You Need\" introduces the Transformer model, which relies solely on attention mechanisms and achieves state-of-the-art results in machine translation tasks. The model demonstrates superior performance in tasks such as English-to-German and English-to-French translation, as well as English constituency parsing. It utilizes stacked self-attention and point-wise, fully connected layers in both the encoder and decoder, with attention functions computing weighted sums based on query-key compatibility. The paper also discusses the use of Scaled Dot-Product Attention and Multi-Head Attention mechanisms to enhance performance. Training details, including data, batching, hardware, schedule, optimizer, and regularization techniques, are explored. The Transformer model outperforms previous models in translation tasks, achieving a new state-of-the-art BLEU score for English-to-German and English-to-French translation. Variations in model performance and architecture are evaluated, showcasing the Transformer's ability to generalize well to English constituency parsing. The model is trained on the Wall Street Journal portion of the Penn Treebank and offers faster training and top-tier performance in translation tasks. The authors plan to extend the model to other tasks and explore local attention mechanisms for handling large inputs and outputs efficiently.\n",
            "We have the opportunity to refine the existing summary (only if needed) with some more context below.\n",
            "------------\n",
            "Attention Visualizations\n",
            "Input-Input Layer5\n",
            "It\n",
            "is\n",
            "in\n",
            "this\n",
            "spirit\n",
            "that\n",
            "a\n",
            "majority\n",
            "of\n",
            "American\n",
            "governments\n",
            "have\n",
            "passed\n",
            "new\n",
            "laws\n",
            "since\n",
            "2009\n",
            "making\n",
            "the\n",
            "registration\n",
            "or\n",
            "voting\n",
            "process\n",
            "more\n",
            "difficult\n",
            ".\n",
            "<EOS>\n",
            "<pad>\n",
            "<pad>\n",
            "<pad>\n",
            "<pad>\n",
            "<pad>\n",
            "<pad>\n",
            "It\n",
            "is\n",
            "in\n",
            "this\n",
            "spirit\n",
            "that\n",
            "a\n",
            "majority\n",
            "of\n",
            "American\n",
            "governments\n",
            "have\n",
            "passed\n",
            "new\n",
            "laws\n",
            "since\n",
            "2009\n",
            "making\n",
            "the\n",
            "registration\n",
            "or\n",
            "voting\n",
            "process\n",
            "more\n",
            "difficult\n",
            ".\n",
            "<EOS>\n",
            "<pad>\n",
            "<pad>\n",
            "<pad>\n",
            "<pad>\n",
            "<pad>\n",
            "<pad>\n",
            "Figure 3: An example of the attention mechanism following long-distance dependencies in the\n",
            "encoder self-attention in layer 5 of 6. Many of the attention heads attend to a distant dependency of\n",
            "the verb ‘making’, completing the phrase ‘making...more difﬁcult’. Attentions here shown only for\n",
            "the word ‘making’. Different colors represent different heads. Best viewed in color.\n",
            "13\n",
            "------------\n",
            "Given the new context, refine the original summary.\n",
            "If the context isn't useful, return the original summary.\u001b[0m\n",
            "\n",
            "\u001b[1m> Finished chain.\u001b[0m\n",
            "\n",
            "\n",
            "\u001b[1m> Entering new LLMChain chain...\u001b[0m\n",
            "Prompt after formatting:\n",
            "\u001b[32;1m\u001b[1;3mYour job is to produce a final summary.\n",
            "We have provided an existing summary up to a certain point: The existing summary of the paper \"Attention Is All You Need\" introduces the Transformer model, which relies solely on attention mechanisms and achieves state-of-the-art results in machine translation tasks. The model demonstrates superior performance in tasks such as English-to-German and English-to-French translation, as well as English constituency parsing. It utilizes stacked self-attention and point-wise, fully connected layers in both the encoder and decoder, with attention functions computing weighted sums based on query-key compatibility. The paper also discusses the use of Scaled Dot-Product Attention and Multi-Head Attention mechanisms to enhance performance. Training details, including data, batching, hardware, schedule, optimizer, and regularization techniques, are explored. The Transformer model outperforms previous models in translation tasks, achieving a new state-of-the-art BLEU score for English-to-German and English-to-French translation. Variations in model performance and architecture are evaluated, showcasing the Transformer's ability to generalize well to English constituency parsing. The model is trained on the Wall Street Journal portion of the Penn Treebank and offers faster training and top-tier performance in translation tasks. The authors plan to extend the model to other tasks and explore local attention mechanisms for handling large inputs and outputs efficiently.\n",
            "We have the opportunity to refine the existing summary (only if needed) with some more context below.\n",
            "------------\n",
            "Input-Input Layer5\n",
            "The\n",
            "Law\n",
            "will\n",
            "never\n",
            "be\n",
            "perfect\n",
            ",\n",
            "but\n",
            "its\n",
            "application\n",
            "should\n",
            "be\n",
            "just\n",
            "-\n",
            "this\n",
            "is\n",
            "what\n",
            "we\n",
            "are\n",
            "missing\n",
            ",\n",
            "in\n",
            "my\n",
            "opinion\n",
            ".\n",
            "<EOS>\n",
            "<pad>\n",
            "The\n",
            "Law\n",
            "will\n",
            "never\n",
            "be\n",
            "perfect\n",
            ",\n",
            "but\n",
            "its\n",
            "application\n",
            "should\n",
            "be\n",
            "just\n",
            "-\n",
            "this\n",
            "is\n",
            "what\n",
            "we\n",
            "are\n",
            "missing\n",
            ",\n",
            "in\n",
            "my\n",
            "opinion\n",
            ".\n",
            "<EOS>\n",
            "<pad>\n",
            "Input-Input Layer5\n",
            "The\n",
            "Law\n",
            "will\n",
            "never\n",
            "be\n",
            "perfect\n",
            ",\n",
            "but\n",
            "its\n",
            "application\n",
            "should\n",
            "be\n",
            "just\n",
            "-\n",
            "this\n",
            "is\n",
            "what\n",
            "we\n",
            "are\n",
            "missing\n",
            ",\n",
            "in\n",
            "my\n",
            "opinion\n",
            ".\n",
            "<EOS>\n",
            "<pad>\n",
            "The\n",
            "Law\n",
            "will\n",
            "never\n",
            "be\n",
            "perfect\n",
            ",\n",
            "but\n",
            "its\n",
            "application\n",
            "should\n",
            "be\n",
            "just\n",
            "-\n",
            "this\n",
            "is\n",
            "what\n",
            "we\n",
            "are\n",
            "missing\n",
            ",\n",
            "in\n",
            "my\n",
            "opinion\n",
            ".\n",
            "<EOS>\n",
            "<pad>Figure 4: Two attention heads, also in layer 5 of 6, apparently involved in anaphora resolution. Top:\n",
            "Full attentions for head 5. Bottom: Isolated attentions from just the word ‘its’ for attention heads 5\n",
            "and 6. Note that the attentions are very sharp for this word.\n",
            "14\n",
            "------------\n",
            "Given the new context, refine the original summary.\n",
            "If the context isn't useful, return the original summary.\u001b[0m\n",
            "\n",
            "\u001b[1m> Finished chain.\u001b[0m\n",
            "\n",
            "\n",
            "\u001b[1m> Entering new LLMChain chain...\u001b[0m\n",
            "Prompt after formatting:\n",
            "\u001b[32;1m\u001b[1;3mYour job is to produce a final summary.\n",
            "We have provided an existing summary up to a certain point: The existing summary of the paper \"Attention Is All You Need\" introduces the Transformer model, which relies solely on attention mechanisms and achieves state-of-the-art results in machine translation tasks. The model demonstrates superior performance in tasks such as English-to-German and English-to-French translation, as well as English constituency parsing. It utilizes stacked self-attention and point-wise, fully connected layers in both the encoder and decoder, with attention functions computing weighted sums based on query-key compatibility. The paper also discusses the use of Scaled Dot-Product Attention and Multi-Head Attention mechanisms to enhance performance. Training details, including data, batching, hardware, schedule, optimizer, and regularization techniques, are explored. The Transformer model outperforms previous models in translation tasks, achieving a new state-of-the-art BLEU score for English-to-German and English-to-French translation. Variations in model performance and architecture are evaluated, showcasing the Transformer's ability to generalize well to English constituency parsing. The model is trained on the Wall Street Journal portion of the Penn Treebank and offers faster training and top-tier performance in translation tasks. The authors plan to extend the model to other tasks and explore local attention mechanisms for handling large inputs and outputs efficiently.\n",
            "We have the opportunity to refine the existing summary (only if needed) with some more context below.\n",
            "------------\n",
            "Input-Input Layer5\n",
            "The\n",
            "Law\n",
            "will\n",
            "never\n",
            "be\n",
            "perfect\n",
            ",\n",
            "but\n",
            "its\n",
            "application\n",
            "should\n",
            "be\n",
            "just\n",
            "-\n",
            "this\n",
            "is\n",
            "what\n",
            "we\n",
            "are\n",
            "missing\n",
            ",\n",
            "in\n",
            "my\n",
            "opinion\n",
            ".\n",
            "<EOS>\n",
            "<pad>\n",
            "The\n",
            "Law\n",
            "will\n",
            "never\n",
            "be\n",
            "perfect\n",
            ",\n",
            "but\n",
            "its\n",
            "application\n",
            "should\n",
            "be\n",
            "just\n",
            "-\n",
            "this\n",
            "is\n",
            "what\n",
            "we\n",
            "are\n",
            "missing\n",
            ",\n",
            "in\n",
            "my\n",
            "opinion\n",
            ".\n",
            "<EOS>\n",
            "<pad>\n",
            "Input-Input Layer5\n",
            "The\n",
            "Law\n",
            "will\n",
            "never\n",
            "be\n",
            "perfect\n",
            ",\n",
            "but\n",
            "its\n",
            "application\n",
            "should\n",
            "be\n",
            "just\n",
            "-\n",
            "this\n",
            "is\n",
            "what\n",
            "we\n",
            "are\n",
            "missing\n",
            ",\n",
            "in\n",
            "my\n",
            "opinion\n",
            ".\n",
            "<EOS>\n",
            "<pad>\n",
            "The\n",
            "Law\n",
            "will\n",
            "never\n",
            "be\n",
            "perfect\n",
            ",\n",
            "but\n",
            "its\n",
            "application\n",
            "should\n",
            "be\n",
            "just\n",
            "-\n",
            "this\n",
            "is\n",
            "what\n",
            "we\n",
            "are\n",
            "missing\n",
            ",\n",
            "in\n",
            "my\n",
            "opinion\n",
            ".\n",
            "<EOS>\n",
            "<pad>Figure 5: Many of the attention heads exhibit behaviour that seems related to the structure of the\n",
            "sentence. We give two such examples above, from two different heads from the encoder self-attention\n",
            "at layer 5 of 6. The heads clearly learned to perform different tasks.\n",
            "15\n",
            "------------\n",
            "Given the new context, refine the original summary.\n",
            "If the context isn't useful, return the original summary.\u001b[0m\n",
            "\n",
            "\u001b[1m> Finished chain.\u001b[0m\n",
            "\n",
            "\u001b[1m> Finished chain.\u001b[0m\n"
          ]
        }
      ],
      "source": [
        "chain = load_summarize_chain(\n",
        "    llm=llm,\n",
        "    chain_type='refine',\n",
        "    verbose=True\n",
        ")\n",
        "output_summary = chain.invoke(chunks)"
      ]
    },
    {
      "cell_type": "code",
      "execution_count": null,
      "id": "4f625242",
      "metadata": {
        "id": "4f625242",
        "colab": {
          "base_uri": "https://localhost:8080/"
        },
        "outputId": "390d8117-7e20-4ed8-a05a-631dc77333ae"
      },
      "outputs": [
        {
          "output_type": "stream",
          "name": "stdout",
          "text": [
            "{'input_documents': [Document(page_content='Attention Is All You Need\\nAshish Vaswani∗\\nGoogle Brain\\navaswani@google.comNoam Shazeer∗\\nGoogle Brain\\nnoam@google.comNiki Parmar∗\\nGoogle Research\\nnikip@google.comJakob Uszkoreit∗\\nGoogle Research\\nusz@google.com\\nLlion Jones∗\\nGoogle Research\\nllion@google.comAidan N. Gomez∗†\\nUniversity of Toronto\\naidan@cs.toronto.eduŁukasz Kaiser∗\\nGoogle Brain\\nlukaszkaiser@google.com\\nIllia Polosukhin∗‡\\nillia.polosukhin@gmail.com\\nAbstract\\nThe dominant sequence transduction models are based on complex recurrent or\\nconvolutional neural networks that include an encoder and a decoder. The best\\nperforming models also connect the encoder and decoder through an attention\\nmechanism. We propose a new simple network architecture, the Transformer,\\nbased solely on attention mechanisms, dispensing with recurrence and convolutions\\nentirely. Experiments on two machine translation tasks show these models to\\nbe superior in quality while being more parallelizable and requiring signiﬁcantly\\nless time to train. Our model achieves 28.4 BLEU on the WMT 2014 English-\\nto-German translation task, improving over the existing best results, including\\nensembles, by over 2 BLEU. On the WMT 2014 English-to-French translation task,\\nour model establishes a new single-model state-of-the-art BLEU score of 41.8 after\\ntraining for 3.5 days on eight GPUs, a small fraction of the training costs of the\\nbest models from the literature. We show that the Transformer generalizes well to\\nother tasks by applying it successfully to English constituency parsing both with\\nlarge and limited training data.\\n1 Introduction\\nRecurrent neural networks, long short-term memory [ 13] and gated recurrent [ 7] neural networks\\nin particular, have been ﬁrmly established as state of the art approaches in sequence modeling and\\n∗Equal contribution. Listing order is random. Jakob proposed replacing RNNs with self-attention and started\\nthe effort to evaluate this idea. Ashish, with Illia, designed and implemented the ﬁrst Transformer models and\\nhas been crucially involved in every aspect of this work. Noam proposed scaled dot-product attention, multi-head\\nattention and the parameter-free position representation and became the other person involved in nearly every\\ndetail. Niki designed, implemented, tuned and evaluated countless model variants in our original codebase and\\ntensor2tensor. Llion also experimented with novel model variants, was responsible for our initial codebase, and\\nefﬁcient inference and visualizations. Lukasz and Aidan spent countless long days designing various parts of and\\nimplementing tensor2tensor, replacing our earlier codebase, greatly improving results and massively accelerating\\nour research.\\n†Work performed while at Google Brain.\\n‡Work performed while at Google Research.\\n31st Conference on Neural Information Processing Systems (NIPS 2017), Long Beach, CA, USA.arXiv:1706.03762v5  [cs.CL]  6 Dec 2017', metadata={'source': './attention_is_all_you_need.pdf', 'page': 0}), Document(page_content='transduction problems such as language modeling and machine translation [ 35,2,5]. Numerous\\nefforts have since continued to push the boundaries of recurrent language models and encoder-decoder\\narchitectures [38, 24, 15].\\nRecurrent models typically factor computation along the symbol positions of the input and output\\nsequences. Aligning the positions to steps in computation time, they generate a sequence of hidden\\nstatesht, as a function of the previous hidden state ht−1and the input for position t. This inherently\\nsequential nature precludes parallelization within training examples, which becomes critical at longer\\nsequence lengths, as memory constraints limit batching across examples. Recent work has achieved\\nsigniﬁcant improvements in computational efﬁciency through factorization tricks [ 21] and conditional\\ncomputation [ 32], while also improving model performance in case of the latter. The fundamental\\nconstraint of sequential computation, however, remains.\\nAttention mechanisms have become an integral part of compelling sequence modeling and transduc-\\ntion models in various tasks, allowing modeling of dependencies without regard to their distance in\\nthe input or output sequences [ 2,19]. In all but a few cases [ 27], however, such attention mechanisms\\nare used in conjunction with a recurrent network.\\nIn this work we propose the Transformer, a model architecture eschewing recurrence and instead\\nrelying entirely on an attention mechanism to draw global dependencies between input and output.\\nThe Transformer allows for signiﬁcantly more parallelization and can reach a new state of the art in\\ntranslation quality after being trained for as little as twelve hours on eight P100 GPUs.\\n2 Background\\nThe goal of reducing sequential computation also forms the foundation of the Extended Neural GPU\\n[16], ByteNet [ 18] and ConvS2S [ 9], all of which use convolutional neural networks as basic building\\nblock, computing hidden representations in parallel for all input and output positions. In these models,\\nthe number of operations required to relate signals from two arbitrary input or output positions grows\\nin the distance between positions, linearly for ConvS2S and logarithmically for ByteNet. This makes\\nit more difﬁcult to learn dependencies between distant positions [ 12]. In the Transformer this is\\nreduced to a constant number of operations, albeit at the cost of reduced effective resolution due\\nto averaging attention-weighted positions, an effect we counteract with Multi-Head Attention as\\ndescribed in section 3.2.\\nSelf-attention, sometimes called intra-attention is an attention mechanism relating different positions\\nof a single sequence in order to compute a representation of the sequence. Self-attention has been\\nused successfully in a variety of tasks including reading comprehension, abstractive summarization,\\ntextual entailment and learning task-independent sentence representations [4, 27, 28, 22].\\nEnd-to-end memory networks are based on a recurrent attention mechanism instead of sequence-\\naligned recurrence and have been shown to perform well on simple-language question answering and\\nlanguage modeling tasks [34].\\nTo the best of our knowledge, however, the Transformer is the ﬁrst transduction model relying\\nentirely on self-attention to compute representations of its input and output without using sequence-\\naligned RNNs or convolution. In the following sections, we will describe the Transformer, motivate\\nself-attention and discuss its advantages over models such as [17, 18] and [9].\\n3 Model Architecture\\nMost competitive neural sequence transduction models have an encoder-decoder structure [ 5,2,35].\\nHere, the encoder maps an input sequence of symbol representations (x1,...,x n)to a sequence\\nof continuous representations z= (z1,...,z n). Given z, the decoder then generates an output\\nsequence (y1,...,y m)of symbols one element at a time. At each step the model is auto-regressive\\n[10], consuming the previously generated symbols as additional input when generating the next.\\nThe Transformer follows this overall architecture using stacked self-attention and point-wise, fully\\nconnected layers for both the encoder and decoder, shown in the left and right halves of Figure 1,\\nrespectively.\\n2', metadata={'source': './attention_is_all_you_need.pdf', 'page': 1}), Document(page_content='Figure 1: The Transformer - model architecture.\\n3.1 Encoder and Decoder Stacks\\nEncoder: The encoder is composed of a stack of N= 6 identical layers. Each layer has two\\nsub-layers. The ﬁrst is a multi-head self-attention mechanism, and the second is a simple, position-\\nwise fully connected feed-forward network. We employ a residual connection [ 11] around each of\\nthe two sub-layers, followed by layer normalization [ 1]. That is, the output of each sub-layer is\\nLayerNorm( x+ Sublayer( x)), where Sublayer(x)is the function implemented by the sub-layer\\nitself. To facilitate these residual connections, all sub-layers in the model, as well as the embedding\\nlayers, produce outputs of dimension dmodel = 512 .\\nDecoder: The decoder is also composed of a stack of N= 6identical layers. In addition to the two\\nsub-layers in each encoder layer, the decoder inserts a third sub-layer, which performs multi-head\\nattention over the output of the encoder stack. Similar to the encoder, we employ residual connections\\naround each of the sub-layers, followed by layer normalization. We also modify the self-attention\\nsub-layer in the decoder stack to prevent positions from attending to subsequent positions. This\\nmasking, combined with fact that the output embeddings are offset by one position, ensures that the\\npredictions for position ican depend only on the known outputs at positions less than i.\\n3.2 Attention\\nAn attention function can be described as mapping a query and a set of key-value pairs to an output,\\nwhere the query, keys, values, and output are all vectors. The output is computed as a weighted sum\\nof the values, where the weight assigned to each value is computed by a compatibility function of the\\nquery with the corresponding key.\\n3', metadata={'source': './attention_is_all_you_need.pdf', 'page': 2}), Document(page_content='Scaled Dot-Product Attention\\n Multi-Head Attention\\nFigure 2: (left) Scaled Dot-Product Attention. (right) Multi-Head Attention consists of several\\nattention layers running in parallel.\\n3.2.1 Scaled Dot-Product Attention\\nWe call our particular attention \"Scaled Dot-Product Attention\" (Figure 2). The input consists of\\nqueries and keys of dimension dk, and values of dimension dv. We compute the dot products of the\\nquery with all keys, divide each by√dk, and apply a softmax function to obtain the weights on the\\nvalues.\\nIn practice, we compute the attention function on a set of queries simultaneously, packed together\\ninto a matrix Q. The keys and values are also packed together into matrices KandV. We compute\\nthe matrix of outputs as:\\nAttention(Q,K,V ) = softmax(QKT\\n√dk)V (1)\\nThe two most commonly used attention functions are additive attention [ 2], and dot-product (multi-\\nplicative) attention. Dot-product attention is identical to our algorithm, except for the scaling factor\\nof1√dk. Additive attention computes the compatibility function using a feed-forward network with\\na single hidden layer. While the two are similar in theoretical complexity, dot-product attention is\\nmuch faster and more space-efﬁcient in practice, since it can be implemented using highly optimized\\nmatrix multiplication code.\\nWhile for small values of dkthe two mechanisms perform similarly, additive attention outperforms\\ndot product attention without scaling for larger values of dk[3]. We suspect that for large values of\\ndk, the dot products grow large in magnitude, pushing the softmax function into regions where it has\\nextremely small gradients4. To counteract this effect, we scale the dot products by1√dk.\\n3.2.2 Multi-Head Attention\\nInstead of performing a single attention function with dmodel-dimensional keys, values and queries,\\nwe found it beneﬁcial to linearly project the queries, keys and values htimes with different, learned\\nlinear projections to dk,dkanddvdimensions, respectively. On each of these projected versions of\\nqueries, keys and values we then perform the attention function in parallel, yielding dv-dimensional\\noutput values. These are concatenated and once again projected, resulting in the ﬁnal values, as\\ndepicted in Figure 2.\\n4To illustrate why the dot products get large, assume that the components of qandkare independent random\\nvariables with mean 0and variance 1. Then their dot product, q·k=∑dk\\ni=1qiki, has mean 0and variance dk.\\n4', metadata={'source': './attention_is_all_you_need.pdf', 'page': 3}), Document(page_content='Multi-head attention allows the model to jointly attend to information from different representation\\nsubspaces at different positions. With a single attention head, averaging inhibits this.\\nMultiHead( Q,K,V ) = Concat(head 1,...,head h)WO\\nwhere head i= Attention( QWQ\\ni,KWK\\ni,VWV\\ni)\\nWhere the projections are parameter matrices WQ\\ni∈Rdmodel×dk,WK\\ni∈Rdmodel×dk,WV\\ni∈Rdmodel×dv\\nandWO∈Rhdv×dmodel.\\nIn this work we employ h= 8 parallel attention layers, or heads. For each of these we use\\ndk=dv=dmodel/h= 64 . Due to the reduced dimension of each head, the total computational cost\\nis similar to that of single-head attention with full dimensionality.\\n3.2.3 Applications of Attention in our Model\\nThe Transformer uses multi-head attention in three different ways:\\n•In \"encoder-decoder attention\" layers, the queries come from the previous decoder layer,\\nand the memory keys and values come from the output of the encoder. This allows every\\nposition in the decoder to attend over all positions in the input sequence. This mimics the\\ntypical encoder-decoder attention mechanisms in sequence-to-sequence models such as\\n[38, 2, 9].\\n•The encoder contains self-attention layers. In a self-attention layer all of the keys, values\\nand queries come from the same place, in this case, the output of the previous layer in the\\nencoder. Each position in the encoder can attend to all positions in the previous layer of the\\nencoder.\\n•Similarly, self-attention layers in the decoder allow each position in the decoder to attend to\\nall positions in the decoder up to and including that position. We need to prevent leftward\\ninformation ﬂow in the decoder to preserve the auto-regressive property. We implement this\\ninside of scaled dot-product attention by masking out (setting to −∞) all values in the input\\nof the softmax which correspond to illegal connections. See Figure 2.\\n3.3 Position-wise Feed-Forward Networks\\nIn addition to attention sub-layers, each of the layers in our encoder and decoder contains a fully\\nconnected feed-forward network, which is applied to each position separately and identically. This\\nconsists of two linear transformations with a ReLU activation in between.\\nFFN(x) = max(0,xW 1+b1)W2+b2 (2)\\nWhile the linear transformations are the same across different positions, they use different parameters\\nfrom layer to layer. Another way of describing this is as two convolutions with kernel size 1.\\nThe dimensionality of input and output is dmodel = 512 , and the inner-layer has dimensionality\\ndff= 2048 .\\n3.4 Embeddings and Softmax\\nSimilarly to other sequence transduction models, we use learned embeddings to convert the input\\ntokens and output tokens to vectors of dimension dmodel. We also use the usual learned linear transfor-\\nmation and softmax function to convert the decoder output to predicted next-token probabilities. In\\nour model, we share the same weight matrix between the two embedding layers and the pre-softmax\\nlinear transformation, similar to [ 30]. In the embedding layers, we multiply those weights by√dmodel.\\n3.5 Positional Encoding\\nSince our model contains no recurrence and no convolution, in order for the model to make use of the\\norder of the sequence, we must inject some information about the relative or absolute position of the\\n5', metadata={'source': './attention_is_all_you_need.pdf', 'page': 4}), Document(page_content='Table 1: Maximum path lengths, per-layer complexity and minimum number of sequential operations\\nfor different layer types. nis the sequence length, dis the representation dimension, kis the kernel\\nsize of convolutions and rthe size of the neighborhood in restricted self-attention.\\nLayer Type Complexity per Layer Sequential Maximum Path Length\\nOperations\\nSelf-Attention O(n2·d) O(1) O(1)\\nRecurrent O(n·d2) O(n) O(n)\\nConvolutional O(k·n·d2)O(1) O(logk(n))\\nSelf-Attention (restricted) O(r·n·d)O(1) O(n/r)\\ntokens in the sequence. To this end, we add \"positional encodings\" to the input embeddings at the\\nbottoms of the encoder and decoder stacks. The positional encodings have the same dimension dmodel\\nas the embeddings, so that the two can be summed. There are many choices of positional encodings,\\nlearned and ﬁxed [9].\\nIn this work, we use sine and cosine functions of different frequencies:\\nPE(pos,2i)=sin(pos/100002i/d model)\\nPE(pos,2i+1)=cos(pos/100002i/d model)\\nwhereposis the position and iis the dimension. That is, each dimension of the positional encoding\\ncorresponds to a sinusoid. The wavelengths form a geometric progression from 2πto10000·2π. We\\nchose this function because we hypothesized it would allow the model to easily learn to attend by\\nrelative positions, since for any ﬁxed offset k,PEpos+kcan be represented as a linear function of\\nPEpos.\\nWe also experimented with using learned positional embeddings [ 9] instead, and found that the two\\nversions produced nearly identical results (see Table 3 row (E)). We chose the sinusoidal version\\nbecause it may allow the model to extrapolate to sequence lengths longer than the ones encountered\\nduring training.\\n4 Why Self-Attention\\nIn this section we compare various aspects of self-attention layers to the recurrent and convolu-\\ntional layers commonly used for mapping one variable-length sequence of symbol representations\\n(x1,...,x n)to another sequence of equal length (z1,...,z n), withxi,zi∈Rd, such as a hidden\\nlayer in a typical sequence transduction encoder or decoder. Motivating our use of self-attention we\\nconsider three desiderata.\\nOne is the total computational complexity per layer. Another is the amount of computation that can\\nbe parallelized, as measured by the minimum number of sequential operations required.\\nThe third is the path length between long-range dependencies in the network. Learning long-range\\ndependencies is a key challenge in many sequence transduction tasks. One key factor affecting the\\nability to learn such dependencies is the length of the paths forward and backward signals have to\\ntraverse in the network. The shorter these paths between any combination of positions in the input\\nand output sequences, the easier it is to learn long-range dependencies [ 12]. Hence we also compare\\nthe maximum path length between any two input and output positions in networks composed of the\\ndifferent layer types.\\nAs noted in Table 1, a self-attention layer connects all positions with a constant number of sequentially\\nexecuted operations, whereas a recurrent layer requires O(n)sequential operations. In terms of\\ncomputational complexity, self-attention layers are faster than recurrent layers when the sequence\\nlengthnis smaller than the representation dimensionality d, which is most often the case with\\nsentence representations used by state-of-the-art models in machine translations, such as word-piece\\n[38] and byte-pair [ 31] representations. To improve computational performance for tasks involving\\nvery long sequences, self-attention could be restricted to considering only a neighborhood of size rin\\n6', metadata={'source': './attention_is_all_you_need.pdf', 'page': 5}), Document(page_content='the input sequence centered around the respective output position. This would increase the maximum\\npath length to O(n/r). We plan to investigate this approach further in future work.\\nA single convolutional layer with kernel width k<n does not connect all pairs of input and output\\npositions. Doing so requires a stack of O(n/k)convolutional layers in the case of contiguous kernels,\\norO(logk(n))in the case of dilated convolutions [ 18], increasing the length of the longest paths\\nbetween any two positions in the network. Convolutional layers are generally more expensive than\\nrecurrent layers, by a factor of k. Separable convolutions [ 6], however, decrease the complexity\\nconsiderably, to O(k·n·d+n·d2). Even with k=n, however, the complexity of a separable\\nconvolution is equal to the combination of a self-attention layer and a point-wise feed-forward layer,\\nthe approach we take in our model.\\nAs side beneﬁt, self-attention could yield more interpretable models. We inspect attention distributions\\nfrom our models and present and discuss examples in the appendix. Not only do individual attention\\nheads clearly learn to perform different tasks, many appear to exhibit behavior related to the syntactic\\nand semantic structure of the sentences.\\n5 Training\\nThis section describes the training regime for our models.\\n5.1 Training Data and Batching\\nWe trained on the standard WMT 2014 English-German dataset consisting of about 4.5 million\\nsentence pairs. Sentences were encoded using byte-pair encoding [ 3], which has a shared source-\\ntarget vocabulary of about 37000 tokens. For English-French, we used the signiﬁcantly larger WMT\\n2014 English-French dataset consisting of 36M sentences and split tokens into a 32000 word-piece\\nvocabulary [ 38]. Sentence pairs were batched together by approximate sequence length. Each training\\nbatch contained a set of sentence pairs containing approximately 25000 source tokens and 25000\\ntarget tokens.\\n5.2 Hardware and Schedule\\nWe trained our models on one machine with 8 NVIDIA P100 GPUs. For our base models using\\nthe hyperparameters described throughout the paper, each training step took about 0.4 seconds. We\\ntrained the base models for a total of 100,000 steps or 12 hours. For our big models,(described on the\\nbottom line of table 3), step time was 1.0 seconds. The big models were trained for 300,000 steps\\n(3.5 days).\\n5.3 Optimizer\\nWe used the Adam optimizer [ 20] withβ1= 0.9,β2= 0.98andϵ= 10−9. We varied the learning\\nrate over the course of training, according to the formula:\\nlrate =d−0.5\\nmodel·min(step_num−0.5,step _num·warmup _steps−1.5) (3)\\nThis corresponds to increasing the learning rate linearly for the ﬁrst warmup _steps training steps,\\nand decreasing it thereafter proportionally to the inverse square root of the step number. We used\\nwarmup _steps = 4000 .\\n5.4 Regularization\\nWe employ three types of regularization during training:\\nResidual Dropout We apply dropout [ 33] to the output of each sub-layer, before it is added to the\\nsub-layer input and normalized. In addition, we apply dropout to the sums of the embeddings and the\\npositional encodings in both the encoder and decoder stacks. For the base model, we use a rate of\\nPdrop= 0.1.\\n7', metadata={'source': './attention_is_all_you_need.pdf', 'page': 6}), Document(page_content='Table 2: The Transformer achieves better BLEU scores than previous state-of-the-art models on the\\nEnglish-to-German and English-to-French newstest2014 tests at a fraction of the training cost.\\nModelBLEU Training Cost (FLOPs)\\nEN-DE EN-FR EN-DE EN-FR\\nByteNet [18] 23.75\\nDeep-Att + PosUnk [39] 39.2 1.0·1020\\nGNMT + RL [38] 24.6 39.92 2.3·10191.4·1020\\nConvS2S [9] 25.16 40.46 9.6·10181.5·1020\\nMoE [32] 26.03 40.56 2.0·10191.2·1020\\nDeep-Att + PosUnk Ensemble [39] 40.4 8.0·1020\\nGNMT + RL Ensemble [38] 26.30 41.16 1.8·10201.1·1021\\nConvS2S Ensemble [9] 26.36 41.29 7.7·10191.2·1021\\nTransformer (base model) 27.3 38.1 3.3·1018\\nTransformer (big) 28.4 41.8 2.3·1019\\nLabel Smoothing During training, we employed label smoothing of value ϵls= 0.1[36]. This\\nhurts perplexity, as the model learns to be more unsure, but improves accuracy and BLEU score.\\n6 Results\\n6.1 Machine Translation\\nOn the WMT 2014 English-to-German translation task, the big transformer model (Transformer (big)\\nin Table 2) outperforms the best previously reported models (including ensembles) by more than 2.0\\nBLEU, establishing a new state-of-the-art BLEU score of 28.4. The conﬁguration of this model is\\nlisted in the bottom line of Table 3. Training took 3.5days on 8P100 GPUs. Even our base model\\nsurpasses all previously published models and ensembles, at a fraction of the training cost of any of\\nthe competitive models.\\nOn the WMT 2014 English-to-French translation task, our big model achieves a BLEU score of 41.0,\\noutperforming all of the previously published single models, at less than 1/4the training cost of the\\nprevious state-of-the-art model. The Transformer (big) model trained for English-to-French used\\ndropout rate Pdrop= 0.1, instead of 0.3.\\nFor the base models, we used a single model obtained by averaging the last 5 checkpoints, which\\nwere written at 10-minute intervals. For the big models, we averaged the last 20 checkpoints. We\\nused beam search with a beam size of 4and length penalty α= 0.6[38]. These hyperparameters\\nwere chosen after experimentation on the development set. We set the maximum output length during\\ninference to input length + 50, but terminate early when possible [38].\\nTable 2 summarizes our results and compares our translation quality and training costs to other model\\narchitectures from the literature. We estimate the number of ﬂoating point operations used to train a\\nmodel by multiplying the training time, the number of GPUs used, and an estimate of the sustained\\nsingle-precision ﬂoating-point capacity of each GPU5.\\n6.2 Model Variations\\nTo evaluate the importance of different components of the Transformer, we varied our base model\\nin different ways, measuring the change in performance on English-to-German translation on the\\ndevelopment set, newstest2013. We used beam search as described in the previous section, but no\\ncheckpoint averaging. We present these results in Table 3.\\nIn Table 3 rows (A), we vary the number of attention heads and the attention key and value dimensions,\\nkeeping the amount of computation constant, as described in Section 3.2.2. While single-head\\nattention is 0.9 BLEU worse than the best setting, quality also drops off with too many heads.\\n5We used values of 2.8, 3.7, 6.0 and 9.5 TFLOPS for K80, K40, M40 and P100, respectively.\\n8', metadata={'source': './attention_is_all_you_need.pdf', 'page': 7}), Document(page_content='Table 3: Variations on the Transformer architecture. Unlisted values are identical to those of the base\\nmodel. All metrics are on the English-to-German translation development set, newstest2013. Listed\\nperplexities are per-wordpiece, according to our byte-pair encoding, and should not be compared to\\nper-word perplexities.\\nN d modeldffh d kdvPdropϵlstrain PPL BLEU params\\nsteps (dev) (dev)×106\\nbase 6 512 2048 8 64 64 0.1 0.1 100K 4.92 25.8 65\\n(A)1 512 512 5.29 24.9\\n4 128 128 5.00 25.5\\n16 32 32 4.91 25.8\\n32 16 16 5.01 25.4\\n(B)16 5.16 25.1 58\\n32 5.01 25.4 60\\n(C)2 6.11 23.7 36\\n4 5.19 25.3 50\\n8 4.88 25.5 80\\n256 32 32 5.75 24.5 28\\n1024 128 128 4.66 26.0 168\\n1024 5.12 25.4 53\\n4096 4.75 26.2 90\\n(D)0.0 5.77 24.6\\n0.2 4.95 25.5\\n0.0 4.67 25.3\\n0.2 5.47 25.7\\n(E) positional embedding instead of sinusoids 4.92 25.7\\nbig 6 1024 4096 16 0.3 300K 4.33 26.4 213\\nTable 4: The Transformer generalizes well to English constituency parsing (Results are on Section 23\\nof WSJ)\\nParser Training WSJ 23 F1\\nVinyals & Kaiser el al. (2014) [37] WSJ only, discriminative 88.3\\nPetrov et al. (2006) [29] WSJ only, discriminative 90.4\\nZhu et al. (2013) [40] WSJ only, discriminative 90.4\\nDyer et al. (2016) [8] WSJ only, discriminative 91.7\\nTransformer (4 layers) WSJ only, discriminative 91.3\\nZhu et al. (2013) [40] semi-supervised 91.3\\nHuang & Harper (2009) [14] semi-supervised 91.3\\nMcClosky et al. (2006) [26] semi-supervised 92.1\\nVinyals & Kaiser el al. (2014) [37] semi-supervised 92.1\\nTransformer (4 layers) semi-supervised 92.7\\nLuong et al. (2015) [23] multi-task 93.0\\nDyer et al. (2016) [8] generative 93.3\\nIn Table 3 rows (B), we observe that reducing the attention key size dkhurts model quality. This\\nsuggests that determining compatibility is not easy and that a more sophisticated compatibility\\nfunction than dot product may be beneﬁcial. We further observe in rows (C) and (D) that, as expected,\\nbigger models are better, and dropout is very helpful in avoiding over-ﬁtting. In row (E) we replace our\\nsinusoidal positional encoding with learned positional embeddings [ 9], and observe nearly identical\\nresults to the base model.\\n6.3 English Constituency Parsing\\nTo evaluate if the Transformer can generalize to other tasks we performed experiments on English\\nconstituency parsing. This task presents speciﬁc challenges: the output is subject to strong structural\\n9', metadata={'source': './attention_is_all_you_need.pdf', 'page': 8}), Document(page_content='constraints and is signiﬁcantly longer than the input. Furthermore, RNN sequence-to-sequence\\nmodels have not been able to attain state-of-the-art results in small-data regimes [37].\\nWe trained a 4-layer transformer with dmodel = 1024 on the Wall Street Journal (WSJ) portion of the\\nPenn Treebank [ 25], about 40K training sentences. We also trained it in a semi-supervised setting,\\nusing the larger high-conﬁdence and BerkleyParser corpora from with approximately 17M sentences\\n[37]. We used a vocabulary of 16K tokens for the WSJ only setting and a vocabulary of 32K tokens\\nfor the semi-supervised setting.\\nWe performed only a small number of experiments to select the dropout, both attention and residual\\n(section 5.4), learning rates and beam size on the Section 22 development set, all other parameters\\nremained unchanged from the English-to-German base translation model. During inference, we\\nincreased the maximum output length to input length + 300. We used a beam size of 21andα= 0.3\\nfor both WSJ only and the semi-supervised setting.\\nOur results in Table 4 show that despite the lack of task-speciﬁc tuning our model performs sur-\\nprisingly well, yielding better results than all previously reported models with the exception of the\\nRecurrent Neural Network Grammar [8].\\nIn contrast to RNN sequence-to-sequence models [ 37], the Transformer outperforms the Berkeley-\\nParser [29] even when training only on the WSJ training set of 40K sentences.\\n7 Conclusion\\nIn this work, we presented the Transformer, the ﬁrst sequence transduction model based entirely on\\nattention, replacing the recurrent layers most commonly used in encoder-decoder architectures with\\nmulti-headed self-attention.\\nFor translation tasks, the Transformer can be trained signiﬁcantly faster than architectures based\\non recurrent or convolutional layers. On both WMT 2014 English-to-German and WMT 2014\\nEnglish-to-French translation tasks, we achieve a new state of the art. In the former task our best\\nmodel outperforms even all previously reported ensembles.\\nWe are excited about the future of attention-based models and plan to apply them to other tasks. We\\nplan to extend the Transformer to problems involving input and output modalities other than text and\\nto investigate local, restricted attention mechanisms to efﬁciently handle large inputs and outputs\\nsuch as images, audio and video. Making generation less sequential is another research goals of ours.\\nThe code we used to train and evaluate our models is available at https://github.com/\\ntensorflow/tensor2tensor .\\nAcknowledgements We are grateful to Nal Kalchbrenner and Stephan Gouws for their fruitful\\ncomments, corrections and inspiration.\\nReferences\\n[1]Jimmy Lei Ba, Jamie Ryan Kiros, and Geoffrey E Hinton. Layer normalization. arXiv preprint\\narXiv:1607.06450 , 2016.\\n[2]Dzmitry Bahdanau, Kyunghyun Cho, and Yoshua Bengio. Neural machine translation by jointly\\nlearning to align and translate. CoRR , abs/1409.0473, 2014.\\n[3]Denny Britz, Anna Goldie, Minh-Thang Luong, and Quoc V . Le. Massive exploration of neural\\nmachine translation architectures. CoRR , abs/1703.03906, 2017.\\n[4]Jianpeng Cheng, Li Dong, and Mirella Lapata. Long short-term memory-networks for machine\\nreading. arXiv preprint arXiv:1601.06733 , 2016.\\n[5]Kyunghyun Cho, Bart van Merrienboer, Caglar Gulcehre, Fethi Bougares, Holger Schwenk,\\nand Yoshua Bengio. Learning phrase representations using rnn encoder-decoder for statistical\\nmachine translation. CoRR , abs/1406.1078, 2014.\\n[6]Francois Chollet. Xception: Deep learning with depthwise separable convolutions. arXiv\\npreprint arXiv:1610.02357 , 2016.\\n10', metadata={'source': './attention_is_all_you_need.pdf', 'page': 9}), Document(page_content='[7]Junyoung Chung, Çaglar Gülçehre, Kyunghyun Cho, and Yoshua Bengio. Empirical evaluation\\nof gated recurrent neural networks on sequence modeling. CoRR , abs/1412.3555, 2014.\\n[8]Chris Dyer, Adhiguna Kuncoro, Miguel Ballesteros, and Noah A. Smith. Recurrent neural\\nnetwork grammars. In Proc. of NAACL , 2016.\\n[9]Jonas Gehring, Michael Auli, David Grangier, Denis Yarats, and Yann N. Dauphin. Convolu-\\ntional sequence to sequence learning. arXiv preprint arXiv:1705.03122v2 , 2017.\\n[10] Alex Graves. Generating sequences with recurrent neural networks. arXiv preprint\\narXiv:1308.0850 , 2013.\\n[11] Kaiming He, Xiangyu Zhang, Shaoqing Ren, and Jian Sun. Deep residual learning for im-\\nage recognition. In Proceedings of the IEEE Conference on Computer Vision and Pattern\\nRecognition , pages 770–778, 2016.\\n[12] Sepp Hochreiter, Yoshua Bengio, Paolo Frasconi, and Jürgen Schmidhuber. Gradient ﬂow in\\nrecurrent nets: the difﬁculty of learning long-term dependencies, 2001.\\n[13] Sepp Hochreiter and Jürgen Schmidhuber. Long short-term memory. Neural computation ,\\n9(8):1735–1780, 1997.\\n[14] Zhongqiang Huang and Mary Harper. Self-training PCFG grammars with latent annotations\\nacross languages. In Proceedings of the 2009 Conference on Empirical Methods in Natural\\nLanguage Processing , pages 832–841. ACL, August 2009.\\n[15] Rafal Jozefowicz, Oriol Vinyals, Mike Schuster, Noam Shazeer, and Yonghui Wu. Exploring\\nthe limits of language modeling. arXiv preprint arXiv:1602.02410 , 2016.\\n[16] Łukasz Kaiser and Samy Bengio. Can active memory replace attention? In Advances in Neural\\nInformation Processing Systems, (NIPS) , 2016.\\n[17] Łukasz Kaiser and Ilya Sutskever. Neural GPUs learn algorithms. In International Conference\\non Learning Representations (ICLR) , 2016.\\n[18] Nal Kalchbrenner, Lasse Espeholt, Karen Simonyan, Aaron van den Oord, Alex Graves, and Ko-\\nray Kavukcuoglu. Neural machine translation in linear time. arXiv preprint arXiv:1610.10099v2 ,\\n2017.\\n[19] Yoon Kim, Carl Denton, Luong Hoang, and Alexander M. Rush. Structured attention networks.\\nInInternational Conference on Learning Representations , 2017.\\n[20] Diederik Kingma and Jimmy Ba. Adam: A method for stochastic optimization. In ICLR , 2015.\\n[21] Oleksii Kuchaiev and Boris Ginsburg. Factorization tricks for LSTM networks. arXiv preprint\\narXiv:1703.10722 , 2017.\\n[22] Zhouhan Lin, Minwei Feng, Cicero Nogueira dos Santos, Mo Yu, Bing Xiang, Bowen\\nZhou, and Yoshua Bengio. A structured self-attentive sentence embedding. arXiv preprint\\narXiv:1703.03130 , 2017.\\n[23] Minh-Thang Luong, Quoc V . Le, Ilya Sutskever, Oriol Vinyals, and Lukasz Kaiser. Multi-task\\nsequence to sequence learning. arXiv preprint arXiv:1511.06114 , 2015.\\n[24] Minh-Thang Luong, Hieu Pham, and Christopher D Manning. Effective approaches to attention-\\nbased neural machine translation. arXiv preprint arXiv:1508.04025 , 2015.\\n[25] Mitchell P Marcus, Mary Ann Marcinkiewicz, and Beatrice Santorini. Building a large annotated\\ncorpus of english: The penn treebank. Computational linguistics , 19(2):313–330, 1993.\\n[26] David McClosky, Eugene Charniak, and Mark Johnson. Effective self-training for parsing. In\\nProceedings of the Human Language Technology Conference of the NAACL, Main Conference ,\\npages 152–159. ACL, June 2006.\\n11', metadata={'source': './attention_is_all_you_need.pdf', 'page': 10}), Document(page_content='[27] Ankur Parikh, Oscar Täckström, Dipanjan Das, and Jakob Uszkoreit. A decomposable attention\\nmodel. In Empirical Methods in Natural Language Processing , 2016.\\n[28] Romain Paulus, Caiming Xiong, and Richard Socher. A deep reinforced model for abstractive\\nsummarization. arXiv preprint arXiv:1705.04304 , 2017.\\n[29] Slav Petrov, Leon Barrett, Romain Thibaux, and Dan Klein. Learning accurate, compact,\\nand interpretable tree annotation. In Proceedings of the 21st International Conference on\\nComputational Linguistics and 44th Annual Meeting of the ACL , pages 433–440. ACL, July\\n2006.\\n[30] Oﬁr Press and Lior Wolf. Using the output embedding to improve language models. arXiv\\npreprint arXiv:1608.05859 , 2016.\\n[31] Rico Sennrich, Barry Haddow, and Alexandra Birch. Neural machine translation of rare words\\nwith subword units. arXiv preprint arXiv:1508.07909 , 2015.\\n[32] Noam Shazeer, Azalia Mirhoseini, Krzysztof Maziarz, Andy Davis, Quoc Le, Geoffrey Hinton,\\nand Jeff Dean. Outrageously large neural networks: The sparsely-gated mixture-of-experts\\nlayer. arXiv preprint arXiv:1701.06538 , 2017.\\n[33] Nitish Srivastava, Geoffrey E Hinton, Alex Krizhevsky, Ilya Sutskever, and Ruslan Salakhutdi-\\nnov. Dropout: a simple way to prevent neural networks from overﬁtting. Journal of Machine\\nLearning Research , 15(1):1929–1958, 2014.\\n[34] Sainbayar Sukhbaatar, Arthur Szlam, Jason Weston, and Rob Fergus. End-to-end memory\\nnetworks. In C. Cortes, N. D. Lawrence, D. D. Lee, M. Sugiyama, and R. Garnett, editors,\\nAdvances in Neural Information Processing Systems 28 , pages 2440–2448. Curran Associates,\\nInc., 2015.\\n[35] Ilya Sutskever, Oriol Vinyals, and Quoc VV Le. Sequence to sequence learning with neural\\nnetworks. In Advances in Neural Information Processing Systems , pages 3104–3112, 2014.\\n[36] Christian Szegedy, Vincent Vanhoucke, Sergey Ioffe, Jonathon Shlens, and Zbigniew Wojna.\\nRethinking the inception architecture for computer vision. CoRR , abs/1512.00567, 2015.\\n[37] Vinyals & Kaiser, Koo, Petrov, Sutskever, and Hinton. Grammar as a foreign language. In\\nAdvances in Neural Information Processing Systems , 2015.\\n[38] Yonghui Wu, Mike Schuster, Zhifeng Chen, Quoc V Le, Mohammad Norouzi, Wolfgang\\nMacherey, Maxim Krikun, Yuan Cao, Qin Gao, Klaus Macherey, et al. Google’s neural machine\\ntranslation system: Bridging the gap between human and machine translation. arXiv preprint\\narXiv:1609.08144 , 2016.\\n[39] Jie Zhou, Ying Cao, Xuguang Wang, Peng Li, and Wei Xu. Deep recurrent models with\\nfast-forward connections for neural machine translation. CoRR , abs/1606.04199, 2016.\\n[40] Muhua Zhu, Yue Zhang, Wenliang Chen, Min Zhang, and Jingbo Zhu. Fast and accurate\\nshift-reduce constituent parsing. In Proceedings of the 51st Annual Meeting of the ACL (Volume\\n1: Long Papers) , pages 434–443. ACL, August 2013.\\n12', metadata={'source': './attention_is_all_you_need.pdf', 'page': 11}), Document(page_content='Attention Visualizations\\nInput-Input Layer5\\nIt\\nis\\nin\\nthis\\nspirit\\nthat\\na\\nmajority\\nof\\nAmerican\\ngovernments\\nhave\\npassed\\nnew\\nlaws\\nsince\\n2009\\nmaking\\nthe\\nregistration\\nor\\nvoting\\nprocess\\nmore\\ndifficult\\n.\\n<EOS>\\n<pad>\\n<pad>\\n<pad>\\n<pad>\\n<pad>\\n<pad>\\nIt\\nis\\nin\\nthis\\nspirit\\nthat\\na\\nmajority\\nof\\nAmerican\\ngovernments\\nhave\\npassed\\nnew\\nlaws\\nsince\\n2009\\nmaking\\nthe\\nregistration\\nor\\nvoting\\nprocess\\nmore\\ndifficult\\n.\\n<EOS>\\n<pad>\\n<pad>\\n<pad>\\n<pad>\\n<pad>\\n<pad>\\nFigure 3: An example of the attention mechanism following long-distance dependencies in the\\nencoder self-attention in layer 5 of 6. Many of the attention heads attend to a distant dependency of\\nthe verb ‘making’, completing the phrase ‘making...more difﬁcult’. Attentions here shown only for\\nthe word ‘making’. Different colors represent different heads. Best viewed in color.\\n13', metadata={'source': './attention_is_all_you_need.pdf', 'page': 12}), Document(page_content='Input-Input Layer5\\nThe\\nLaw\\nwill\\nnever\\nbe\\nperfect\\n,\\nbut\\nits\\napplication\\nshould\\nbe\\njust\\n-\\nthis\\nis\\nwhat\\nwe\\nare\\nmissing\\n,\\nin\\nmy\\nopinion\\n.\\n<EOS>\\n<pad>\\nThe\\nLaw\\nwill\\nnever\\nbe\\nperfect\\n,\\nbut\\nits\\napplication\\nshould\\nbe\\njust\\n-\\nthis\\nis\\nwhat\\nwe\\nare\\nmissing\\n,\\nin\\nmy\\nopinion\\n.\\n<EOS>\\n<pad>\\nInput-Input Layer5\\nThe\\nLaw\\nwill\\nnever\\nbe\\nperfect\\n,\\nbut\\nits\\napplication\\nshould\\nbe\\njust\\n-\\nthis\\nis\\nwhat\\nwe\\nare\\nmissing\\n,\\nin\\nmy\\nopinion\\n.\\n<EOS>\\n<pad>\\nThe\\nLaw\\nwill\\nnever\\nbe\\nperfect\\n,\\nbut\\nits\\napplication\\nshould\\nbe\\njust\\n-\\nthis\\nis\\nwhat\\nwe\\nare\\nmissing\\n,\\nin\\nmy\\nopinion\\n.\\n<EOS>\\n<pad>Figure 4: Two attention heads, also in layer 5 of 6, apparently involved in anaphora resolution. Top:\\nFull attentions for head 5. Bottom: Isolated attentions from just the word ‘its’ for attention heads 5\\nand 6. Note that the attentions are very sharp for this word.\\n14', metadata={'source': './attention_is_all_you_need.pdf', 'page': 13}), Document(page_content='Input-Input Layer5\\nThe\\nLaw\\nwill\\nnever\\nbe\\nperfect\\n,\\nbut\\nits\\napplication\\nshould\\nbe\\njust\\n-\\nthis\\nis\\nwhat\\nwe\\nare\\nmissing\\n,\\nin\\nmy\\nopinion\\n.\\n<EOS>\\n<pad>\\nThe\\nLaw\\nwill\\nnever\\nbe\\nperfect\\n,\\nbut\\nits\\napplication\\nshould\\nbe\\njust\\n-\\nthis\\nis\\nwhat\\nwe\\nare\\nmissing\\n,\\nin\\nmy\\nopinion\\n.\\n<EOS>\\n<pad>\\nInput-Input Layer5\\nThe\\nLaw\\nwill\\nnever\\nbe\\nperfect\\n,\\nbut\\nits\\napplication\\nshould\\nbe\\njust\\n-\\nthis\\nis\\nwhat\\nwe\\nare\\nmissing\\n,\\nin\\nmy\\nopinion\\n.\\n<EOS>\\n<pad>\\nThe\\nLaw\\nwill\\nnever\\nbe\\nperfect\\n,\\nbut\\nits\\napplication\\nshould\\nbe\\njust\\n-\\nthis\\nis\\nwhat\\nwe\\nare\\nmissing\\n,\\nin\\nmy\\nopinion\\n.\\n<EOS>\\n<pad>Figure 5: Many of the attention heads exhibit behaviour that seems related to the structure of the\\nsentence. We give two such examples above, from two different heads from the encoder self-attention\\nat layer 5 of 6. The heads clearly learned to perform different tasks.\\n15', metadata={'source': './attention_is_all_you_need.pdf', 'page': 14})], 'output_text': 'The existing summary of the paper \"Attention Is All You Need\" introduces the Transformer model, which relies solely on attention mechanisms and achieves state-of-the-art results in machine translation tasks. The model demonstrates superior performance in tasks such as English-to-German and English-to-French translation, as well as English constituency parsing. It utilizes stacked self-attention and point-wise, fully connected layers in both the encoder and decoder, with attention functions computing weighted sums based on query-key compatibility. The paper also discusses the use of Scaled Dot-Product Attention and Multi-Head Attention mechanisms to enhance performance. Training details, including data, batching, hardware, schedule, optimizer, and regularization techniques, are explored. The Transformer model outperforms previous models in translation tasks, achieving a new state-of-the-art BLEU score for English-to-German and English-to-French translation. Variations in model performance and architecture are evaluated, showcasing the Transformer\\'s ability to generalize well to English constituency parsing. The model is trained on the Wall Street Journal portion of the Penn Treebank and offers faster training and top-tier performance in translation tasks. The authors plan to extend the model to other tasks and explore local attention mechanisms for handling large inputs and outputs efficiently. The new context provided does not add relevant information to the summary.'}\n"
          ]
        }
      ],
      "source": [
        "print(output_summary)"
      ]
    },
    {
      "cell_type": "markdown",
      "id": "d356adb9",
      "metadata": {
        "id": "d356adb9"
      },
      "source": [
        "### refine With Custom Prompts"
      ]
    },
    {
      "cell_type": "code",
      "execution_count": null,
      "id": "fdca96ca",
      "metadata": {
        "id": "fdca96ca"
      },
      "outputs": [],
      "source": [
        "prompt_template = \"\"\"Write a concise summary of the following extracting the key information:\n",
        "Text: `{text}`\n",
        "CONCISE SUMMARY:\"\"\"\n",
        "initial_prompt = PromptTemplate(template=prompt_template, input_variables=['text'])\n",
        "\n",
        "refine_template = '''\n",
        "    Your job is to produce a final summary.\n",
        "    I have provided an existing summary up to a certain point: {existing_answer}.\n",
        "    Please refine the existing summary with some more context below.\n",
        "    ------------\n",
        "    {text}\n",
        "    ------------\n",
        "    Start the final summary with an INTRODUCTION PARAGRAPH that gives an overview of the topic FOLLOWED\n",
        "    by BULLET POINTS if possible AND end the summary with a CONCLUSION PHRASE.\n",
        "\n",
        "'''\n",
        "refine_prompt = PromptTemplate(\n",
        "    template=refine_template,\n",
        "    input_variables=['existing_answer', 'text']\n",
        ")\n"
      ]
    },
    {
      "cell_type": "code",
      "execution_count": null,
      "id": "bb4056ad",
      "metadata": {
        "id": "bb4056ad"
      },
      "outputs": [],
      "source": [
        "chain = load_summarize_chain(\n",
        "    llm=llm,\n",
        "    chain_type='refine',\n",
        "    question_prompt=initial_prompt,\n",
        "    refine_prompt=refine_prompt,\n",
        "    return_intermediate_steps=False\n",
        "\n",
        ")\n",
        "output_summary = chain.invoke(chunks)"
      ]
    },
    {
      "cell_type": "code",
      "execution_count": null,
      "id": "dc7247a4",
      "metadata": {
        "id": "dc7247a4"
      },
      "outputs": [],
      "source": [
        "# print(output_summary)"
      ]
    },
    {
      "cell_type": "code",
      "execution_count": null,
      "id": "adc07a13-ed9f-48f6-abd6-3e5fc8ee6b3e",
      "metadata": {
        "id": "adc07a13-ed9f-48f6-abd6-3e5fc8ee6b3e",
        "outputId": "fd238abd-35fb-42d7-fb95-506d6ac55d0b",
        "colab": {
          "base_uri": "https://localhost:8080/"
        }
      },
      "outputs": [
        {
          "output_type": "stream",
          "name": "stdout",
          "text": [
            "Introduction:\n",
            "The Transformer model has revolutionized the field of deep learning, particularly in natural language processing tasks, with its attention mechanisms and sequence-to-sequence modeling capabilities setting a new standard for capturing global dependencies and achieving optimal performance. Recent research has focused on optimizing various aspects of the Transformer architecture to further enhance its performance and scalability. Attention visualizations have provided insights into how the model handles long-distance dependencies, showcasing its adaptability and effectiveness in processing complex language structures.\n",
            "\n",
            "Key Points:\n",
            "- Research has shown that variations in the Transformer architecture, such as adjusting attention key size and dropout rates, can significantly impact model quality and overfitting avoidance.\n",
            "- Larger Transformer models consistently outperform smaller ones, with the use of dropout being crucial for achieving high model performance.\n",
            "- The Transformer model has demonstrated strong generalization capabilities in English constituency parsing, achieving competitive results compared to other models across different training setups.\n",
            "- In comparison to traditional RNN sequence-to-sequence models, the Transformer consistently outperforms them, even in scenarios with limited data, and has achieved state-of-the-art results in translation tasks.\n",
            "- Attention visualizations in layer 5 of the Transformer model offer valuable insights into anaphora resolution and the model's ability to handle specific linguistic phenomena.\n",
            "\n",
            "Conclusion:\n",
            "The adaptability, scalability, and performance of the Transformer model across various natural language processing tasks underscore its potential for driving further advancements in the field. Its innovative design choices and attention mechanisms, as highlighted in attention visualizations, continue to propel improvements, paving the way for future research and applications in attention-based models. The attention visualizations in layer 5 of the Transformer model provide valuable insights into how the model processes complex language structures and handles long-distance dependencies.\n"
          ]
        }
      ],
      "source": [
        "# displaying the refined summary\n",
        "print(output_summary['output_text'])"
      ]
    },
    {
      "cell_type": "markdown",
      "id": "ddf3b73e",
      "metadata": {
        "id": "ddf3b73e"
      },
      "source": [
        "### Summarizing Using LangChain Agents"
      ]
    },
    {
      "cell_type": "code",
      "execution_count": null,
      "id": "1f009c7f",
      "metadata": {
        "id": "1f009c7f"
      },
      "outputs": [],
      "source": [
        "from langchain_openai import ChatOpenAI\n",
        "from langchain.agents import initialize_agent, Tool\n",
        "from langchain.utilities import WikipediaAPIWrapper"
      ]
    },
    {
      "cell_type": "code",
      "execution_count": null,
      "id": "100b3873",
      "metadata": {
        "id": "100b3873",
        "outputId": "674c711f-fb79-463e-a7a8-91821faad80b",
        "colab": {
          "base_uri": "https://localhost:8080/"
        }
      },
      "outputs": [
        {
          "output_type": "execute_result",
          "data": {
            "text/plain": [
              "True"
            ]
          },
          "metadata": {},
          "execution_count": 45
        }
      ],
      "source": [
        "import os\n",
        "from dotenv import load_dotenv, find_dotenv\n",
        "load_dotenv(find_dotenv(), override=True)"
      ]
    },
    {
      "cell_type": "code",
      "execution_count": null,
      "id": "eba9c798",
      "metadata": {
        "id": "eba9c798"
      },
      "outputs": [],
      "source": [
        "llm = ChatOpenAI(temperature=0, model_name='gpt-3.5-turbo')\n",
        "wikipedia = WikipediaAPIWrapper()"
      ]
    },
    {
      "cell_type": "code",
      "source": [
        "!pip install wikipedia"
      ],
      "metadata": {
        "colab": {
          "base_uri": "https://localhost:8080/"
        },
        "id": "cRqQxnXoDRvQ",
        "outputId": "9a107e6b-a9a6-4370-d732-c4defc58799d"
      },
      "id": "cRqQxnXoDRvQ",
      "execution_count": null,
      "outputs": [
        {
          "output_type": "stream",
          "name": "stdout",
          "text": [
            "Collecting wikipedia\n",
            "  Downloading wikipedia-1.4.0.tar.gz (27 kB)\n",
            "  Preparing metadata (setup.py) ... \u001b[?25l\u001b[?25hdone\n",
            "Requirement already satisfied: beautifulsoup4 in /usr/local/lib/python3.10/dist-packages (from wikipedia) (4.12.3)\n",
            "Requirement already satisfied: requests<3.0.0,>=2.0.0 in /usr/local/lib/python3.10/dist-packages (from wikipedia) (2.31.0)\n",
            "Requirement already satisfied: charset-normalizer<4,>=2 in /usr/local/lib/python3.10/dist-packages (from requests<3.0.0,>=2.0.0->wikipedia) (3.3.2)\n",
            "Requirement already satisfied: idna<4,>=2.5 in /usr/local/lib/python3.10/dist-packages (from requests<3.0.0,>=2.0.0->wikipedia) (3.7)\n",
            "Requirement already satisfied: urllib3<3,>=1.21.1 in /usr/local/lib/python3.10/dist-packages (from requests<3.0.0,>=2.0.0->wikipedia) (2.0.7)\n",
            "Requirement already satisfied: certifi>=2017.4.17 in /usr/local/lib/python3.10/dist-packages (from requests<3.0.0,>=2.0.0->wikipedia) (2024.2.2)\n",
            "Requirement already satisfied: soupsieve>1.2 in /usr/local/lib/python3.10/dist-packages (from beautifulsoup4->wikipedia) (2.5)\n",
            "Building wheels for collected packages: wikipedia\n",
            "  Building wheel for wikipedia (setup.py) ... \u001b[?25l\u001b[?25hdone\n",
            "  Created wheel for wikipedia: filename=wikipedia-1.4.0-py3-none-any.whl size=11680 sha256=0c1b54202a0e172974bc82d70d57f360035ee8de244ffe25aefa7e8672dcb5e8\n",
            "  Stored in directory: /root/.cache/pip/wheels/5e/b6/c5/93f3dec388ae76edc830cb42901bb0232504dfc0df02fc50de\n",
            "Successfully built wikipedia\n",
            "Installing collected packages: wikipedia\n",
            "Successfully installed wikipedia-1.4.0\n"
          ]
        }
      ]
    },
    {
      "cell_type": "code",
      "execution_count": null,
      "id": "d7a06998",
      "metadata": {
        "id": "d7a06998"
      },
      "outputs": [],
      "source": [
        "tools = [\n",
        "    Tool(\n",
        "        name=\"Wikipedia\",\n",
        "        func=wikipedia.run,\n",
        "        description=\"Useful for when you need to get information from wikipedia about a single topic\"\n",
        "    )\n",
        "]"
      ]
    },
    {
      "cell_type": "code",
      "execution_count": null,
      "id": "06da060e",
      "metadata": {
        "id": "06da060e",
        "outputId": "8345bb94-2e2d-4f06-9c93-bbc020fd0ae1",
        "colab": {
          "base_uri": "https://localhost:8080/"
        }
      },
      "outputs": [
        {
          "output_type": "stream",
          "name": "stderr",
          "text": [
            "/usr/local/lib/python3.10/dist-packages/langchain_core/_api/deprecation.py:119: LangChainDeprecationWarning: The function `initialize_agent` was deprecated in LangChain 0.1.0 and will be removed in 0.2.0. Use Use new agent constructor methods like create_react_agent, create_json_agent, create_structured_chat_agent, etc. instead.\n",
            "  warn_deprecated(\n"
          ]
        }
      ],
      "source": [
        "agent_executor = initialize_agent(tools, llm, agent='zero-shot-react-description', verbose=True)"
      ]
    },
    {
      "cell_type": "code",
      "execution_count": null,
      "id": "d3b6556d",
      "metadata": {
        "id": "d3b6556d",
        "outputId": "e1718169-3888-45c3-aff8-14838a5178db",
        "colab": {
          "base_uri": "https://localhost:8080/"
        }
      },
      "outputs": [
        {
          "output_type": "stream",
          "name": "stdout",
          "text": [
            "\n",
            "\n",
            "\u001b[1m> Entering new AgentExecutor chain...\u001b[0m\n",
            "\u001b[32;1m\u001b[1;3mI should look up George Washington on Wikipedia to get a brief summary of his life and accomplishments.\n",
            "Action: Wikipedia\n",
            "Action Input: George Washington\u001b[0m\n",
            "Observation: \u001b[36;1m\u001b[1;3mPage: George Washington\n",
            "Summary: George Washington (February 22, 1732 – December 14, 1799) was an American Founding Father, military officer, and politician who served as the first president of the United States from 1789 to 1797. Appointed by the Second Continental Congress as commander of the Continental Army in 1775, Washington led Patriot forces to victory in the American Revolutionary War and then served as president of the Constitutional Convention in 1787, which drafted and ratified the Constitution of the United States and established the U.S. federal government. Washington has thus become commonly known as the \"Father of his Country\".\n",
            "Washington's first public office, from 1749 to 1750, was as surveyor of Culpeper County in the Colony of Virginia. He subsequently received military training and was assigned command of the Virginia Regiment during the French and Indian War. He was later elected to the Virginia House of Burgesses and was named a delegate to the Continental Congress in Philadelphia, which appointed him commander-in-chief of the Continental Army. Washington led American forces to a decisive victory over the British in the Revolutionary War, leading the British to sign the Treaty of Paris, which acknowledged the sovereignty and independence of the United States. He resigned his commission in 1783 after the conclusion of the Revolutionary War.\n",
            "Washington played an indispensable role in adopting and ratifying the Constitution, which replaced the Articles of Confederation in 1789. He was then twice elected president by the Electoral College unanimously. As the first U.S. president, Washington implemented a strong, well-financed national government while remaining impartial in a fierce rivalry that emerged between cabinet members Thomas Jefferson and Alexander Hamilton. During the French Revolution, he proclaimed a policy of neutrality while additionally sanctioning the Jay Treaty. He set enduring precedents for the office of president, including republicanism, a peaceful transfer of power, the use of the title \"Mr. President\", and the two-term tradition. His 1796 farewell address became a preeminent statement on republicanism in which he wrote about the importance of national unity and the dangers that regionalism, partisanship, and foreign influence pose to it.\n",
            "Washington's image is an icon of American culture. He has been memorialized by monuments, a federal holiday, various media depictions, geographical locations including the national capital, the State of Washington, stamps, and currency. In 1976, Washington was posthumously promoted to the rank of general of the Armies, the highest rank in the U.S. Army. Washington consistently ranks in both popular and scholarly polls as one of the greatest presidents in American history.\n",
            "\n",
            "Page: George Washington Carver\n",
            "Summary: George Washington Carver (c. 1864 – January 5, 1943) was an American agricultural scientist and inventor who promoted alternative crops to cotton and methods to prevent soil depletion. He was one of the most prominent black scientists of the early 20th century.\n",
            "While a professor at Tuskegee Institute, Carver developed techniques to improve types of soils depleted by repeated plantings of cotton. He wanted poor farmers to grow other crops, such as peanuts and sweet potatoes, as a source of their own food and to improve their quality of life. Under his leadership, the Experiment Station at Tuskegee published over forty practical bulletins for farmers, many written by him, which included recipes; many of the bulletins contained advice for poor farmers, including combating soil depletion with limited financial means, producing bigger crops, and preserving food.\n",
            "Apart from his work to improve the lives of farmers, Carver was also a leader in promoting environmentalism. He received numerous honors for his work, including the Spingarn Medal of the NAACP. In an era of high racial polarization, his fame reached beyond the black community. He was widely \u001b[0m\n",
            "Thought:\u001b[32;1m\u001b[1;3mI now know the final answer\n",
            "Final Answer: George Washington was an American Founding Father, military officer, and politician who served as the first president of the United States from 1789 to 1797. George Washington Carver was an American agricultural scientist and inventor who promoted alternative crops to cotton and methods to prevent soil depletion.\u001b[0m\n",
            "\n",
            "\u001b[1m> Finished chain.\u001b[0m\n"
          ]
        }
      ],
      "source": [
        "output = agent_executor.invoke('Can you please provide a short summary of George Washington?')"
      ]
    },
    {
      "cell_type": "code",
      "execution_count": null,
      "id": "6cf9330c",
      "metadata": {
        "id": "6cf9330c",
        "outputId": "15428819-a3c0-430d-e85a-b40e2531cc54",
        "colab": {
          "base_uri": "https://localhost:8080/"
        }
      },
      "outputs": [
        {
          "output_type": "stream",
          "name": "stdout",
          "text": [
            "Can you please provide a short summary of George Washington?\n"
          ]
        }
      ],
      "source": [
        "print(output['input'])"
      ]
    },
    {
      "cell_type": "code",
      "execution_count": null,
      "id": "8f72b08b",
      "metadata": {
        "id": "8f72b08b",
        "outputId": "7a587270-b51a-489f-ea36-bc28fda4b680",
        "colab": {
          "base_uri": "https://localhost:8080/"
        }
      },
      "outputs": [
        {
          "output_type": "stream",
          "name": "stdout",
          "text": [
            "George Washington was an American Founding Father, military officer, and politician who served as the first president of the United States from 1789 to 1797. George Washington Carver was an American agricultural scientist and inventor who promoted alternative crops to cotton and methods to prevent soil depletion.\n"
          ]
        }
      ],
      "source": [
        "print(output['output'])"
      ]
    },
    {
      "cell_type": "code",
      "execution_count": null,
      "id": "00740c8a-02f1-4c80-b393-c62fa34f20d7",
      "metadata": {
        "id": "00740c8a-02f1-4c80-b393-c62fa34f20d7"
      },
      "outputs": [],
      "source": []
    }
  ],
  "metadata": {
    "kernelspec": {
      "display_name": "Python 3 (ipykernel)",
      "language": "python",
      "name": "python3"
    },
    "language_info": {
      "codemirror_mode": {
        "name": "ipython",
        "version": 3
      },
      "file_extension": ".py",
      "mimetype": "text/x-python",
      "name": "python",
      "nbconvert_exporter": "python",
      "pygments_lexer": "ipython3",
      "version": "3.12.1"
    },
    "colab": {
      "provenance": []
    }
  },
  "nbformat": 4,
  "nbformat_minor": 5
}